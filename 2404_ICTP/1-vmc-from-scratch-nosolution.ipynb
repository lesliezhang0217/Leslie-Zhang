{
  "cells": [
    {
      "cell_type": "markdown",
      "metadata": {
        "id": "Wj1jJbWTd4Ca"
      },
      "source": [
        "[![Open in Colab](https://colab.research.google.com/assets/colab-badge.svg)](https://colab.research.google.com/github/PhilipVinc/Lectures/blob/master/2404_ICTP/1-vmc-from-scratch-nosolution.ipynb)"
      ]
    },
    {
      "cell_type": "markdown",
      "metadata": {
        "id": "V1k6D4JUd4Cb"
      },
      "source": [
        "# VMC-from-scratch: Finding Ground-States\n",
        "\n",
        "The goal of this tutorial is to try to write a simple VMC code from (almost) scratch to compute the ground-state of a paradigmatic spin model: the spin-$1/2$ Heisenberg antiferromagnetic chain.\n",
        "Normally, to write a VMC code you would have to implement yourself a way to compute matrix elements of the operators, as well as code to run a Monte-Carlo sampler, but for sanity and peace of mind in this tutorial we will use NetKet to do it.\n",
        "\n",
        "The hamiltonian we will study in this example is the transverse-field Ising model in 2 dimensions:\n",
        "\n",
        "$$\n",
        "\\mathcal{H}=-h\\sum_{i}\\sigma_{i}^{(x)}+J\\sum_{\\langle i,j \\rangle}\\sigma_{i}^{(z)}\\sigma_{j}^{(z)}.\n",
        "$$\n",
        "\n",
        "In the following we assume periodic boundary conditions.\n",
        "\n",
        "The tutorial is structured in such a way that you need to fill in some parts by yourself to make it work. The solutions can be found hidden in [this page of the NetKet documentation](https://netket.readthedocs.io/en/latest/tutorials/vmc-from-scratch.html)"
      ]
    },
    {
      "cell_type": "markdown",
      "metadata": {
        "tags": [],
        "id": "BpAXGqLNd4Cc"
      },
      "source": [
        ":::{note}\n",
        "If you are executing this notebook on **Colab**, you will need to install NetKet.\n",
        "You can do so by uncommenting and running the following cell.\n",
        "\n",
        "Keep in mind that this notebook was designed for NetKet version `3.9.1`, which requires Python >=3.8. If you do not have access to a recent version of Python we strongly recomend to run this notebook on google Colab.\n",
        ":::"
      ]
    },
    {
      "cell_type": "code",
      "execution_count": 1,
      "metadata": {
        "mystnb": {
          "code_prompt_hide": "Hide",
          "code_prompt_show": "Show and uncomment to install NetKet on colab"
        },
        "tags": [],
        "colab": {
          "base_uri": "https://localhost:8080/"
        },
        "id": "n77pCeWid4Cd",
        "outputId": "7cd43790-81d3-4151-dc76-ed6b7e704985"
      },
      "outputs": [
        {
          "output_type": "stream",
          "name": "stdout",
          "text": [
            "\u001b[?25l   \u001b[90m━━━━━━━━━━━━━━━━━━━━━━━━━━━━━━━━━━━━━━━━\u001b[0m \u001b[32m0.0/687.1 kB\u001b[0m \u001b[31m?\u001b[0m eta \u001b[36m-:--:--\u001b[0m\r\u001b[2K   \u001b[91m━━━━━━━━━━━━━━━━━━━━━━━━━━━━━━━━━━━━━━━\u001b[0m\u001b[91m╸\u001b[0m \u001b[32m686.1/687.1 kB\u001b[0m \u001b[31m22.2 MB/s\u001b[0m eta \u001b[36m0:00:01\u001b[0m\r\u001b[2K   \u001b[90m━━━━━━━━━━━━━━━━━━━━━━━━━━━━━━━━━━━━━━━━\u001b[0m \u001b[32m687.1/687.1 kB\u001b[0m \u001b[31m10.8 MB/s\u001b[0m eta \u001b[36m0:00:00\u001b[0m\n",
            "\u001b[2K   \u001b[90m━━━━━━━━━━━━━━━━━━━━━━━━━━━━━━━━━━━━━━━━\u001b[0m \u001b[32m179.3/179.3 kB\u001b[0m \u001b[31m7.5 MB/s\u001b[0m eta \u001b[36m0:00:00\u001b[0m\n",
            "\u001b[2K   \u001b[90m━━━━━━━━━━━━━━━━━━━━━━━━━━━━━━━━━━━━━━━━\u001b[0m \u001b[32m3.1/3.1 MB\u001b[0m \u001b[31m28.4 MB/s\u001b[0m eta \u001b[36m0:00:00\u001b[0m\n",
            "\u001b[2K   \u001b[90m━━━━━━━━━━━━━━━━━━━━━━━━━━━━━━━━━━━━━━━━\u001b[0m \u001b[32m42.4/42.4 kB\u001b[0m \u001b[31m1.6 MB/s\u001b[0m eta \u001b[36m0:00:00\u001b[0m\n",
            "\u001b[2K   \u001b[90m━━━━━━━━━━━━━━━━━━━━━━━━━━━━━━━━━━━━━━━━\u001b[0m \u001b[32m1.0/1.0 MB\u001b[0m \u001b[31m16.2 MB/s\u001b[0m eta \u001b[36m0:00:00\u001b[0m\n",
            "\u001b[2K   \u001b[90m━━━━━━━━━━━━━━━━━━━━━━━━━━━━━━━━━━━━━━━━\u001b[0m \u001b[32m55.8/55.8 kB\u001b[0m \u001b[31m3.3 MB/s\u001b[0m eta \u001b[36m0:00:00\u001b[0m\n",
            "\u001b[?25h"
          ]
        }
      ],
      "source": [
        "%pip install --quiet netket"
      ]
    },
    {
      "cell_type": "markdown",
      "metadata": {
        "id": "bv-XNhSGd4Ce"
      },
      "source": [
        "Please verify that you are running on the correct version of NetKet. If the installation installed an older version of NetKet, it might be because your Python version is too old.\n",
        "In that case, you will need to upgrade python or use Colab.\n",
        "\n",
        "It might also be that in the future NetKet changes. This notebook was authored for the following version of NetKet:"
      ]
    },
    {
      "cell_type": "code",
      "execution_count": 2,
      "metadata": {
        "tags": [],
        "colab": {
          "base_uri": "https://localhost:8080/"
        },
        "id": "1BX9HLe1d4Ce",
        "outputId": "4140f026-d53f-4ab2-90bf-5a39440562a7"
      },
      "outputs": [
        {
          "output_type": "stream",
          "name": "stdout",
          "text": [
            "Python version (requires >=3.9) 3.10.12\n",
            "NetKet version (requires >=3.9.1) 3.15.0\n"
          ]
        }
      ],
      "source": [
        "import platform\n",
        "import netket as nk\n",
        "\n",
        "print(\"Python version (requires >=3.9)\", platform.python_version())\n",
        "print(\"NetKet version (requires >=3.9.1)\", nk.__version__)"
      ]
    },
    {
      "cell_type": "markdown",
      "metadata": {
        "tags": [
          "hide-input"
        ],
        "id": "bhwU9WQld4Cf"
      },
      "source": [
        "*After* having defined this environment variable, we can load netket and the various libraries that we will be using throughout the tutorial."
      ]
    },
    {
      "cell_type": "markdown",
      "metadata": {
        "tags": [],
        "id": "fN1u8GsTd4Cf"
      },
      "source": [
        "## 0. What is NetKet?\n",
        "\n",
        "[NetKet](http://www.netket.org) is a comprehensive package that we (a group of approximately 10 researchers) developed over the years to perform Variational Monte Carlo calulations, while hiding varying degrees of complexity from the researchers that don't want to get their hands too dirty with nitty gritty details.\n",
        "Our idea is that if we lower the barrier to use variational monte carlo methods, more researchers will start playing with them, and, only if the want, they will get down to the little details.\n",
        "\n",
        "Remarkably, renowed researchers like Dr. Alessandro Lovato are large proponents of not using netket, wanting to kontrol every little detail in their codes. While I partly agree with Alessandro, I am a strong proponent of hiding complexity unless needed, and this exercise will reflect this idea.\n",
        "\n",
        "NetKet is throughly documented in [its publication](https://scipost.org/SciPostPhysCodeb.7/pdf) and partly in its [online documentation](https://netket.readthedocs.io/en/latest/index.html). When in doubt, check those, and if you find no answer, ask on our official [discussion forum](https://github.com/orgs/netket/discussions).\n",
        "\n",
        "I suggest you look at the first tutorial from NetKet, the Ising model ground state one, before adventuring in this one."
      ]
    },
    {
      "cell_type": "code",
      "execution_count": 3,
      "metadata": {
        "tags": [
          "hide-cell"
        ],
        "id": "au6WAp3jd4Cg"
      },
      "outputs": [],
      "source": [
        "# Import netket library\n",
        "import netket as nk\n",
        "\n",
        "# Import Json, this will be needed to load log files\n",
        "import json\n",
        "\n",
        "# Helper libraries\n",
        "import numpy as np\n",
        "import matplotlib.pyplot as plt\n",
        "import time\n",
        "\n",
        "# jax and jax.numpy\n",
        "import jax\n",
        "import jax.numpy"
      ]
    },
    {
      "cell_type": "markdown",
      "metadata": {
        "id": "wtU6UDI3d4Ch"
      },
      "source": [
        "## 1. Defining the Hamiltonian\n",
        "\n",
        "NetKet covers quite a few standard Hamiltonians and lattices, so let's use this to quickly define the Ising model on a 2D lattice with PBC.\n",
        "For the moment we assume $L=4$ ($N=16$) and simply define a chain lattice in this way (using periodic boundary conditions for now).\n",
        "NetKet also implements many different lattices. Check them out in [the API reference](https://netket.readthedocs.io/en/latest/api/graph.html)."
      ]
    },
    {
      "cell_type": "code",
      "execution_count": 4,
      "metadata": {
        "tags": [],
        "id": "FnqhsKxFd4Ch"
      },
      "outputs": [],
      "source": [
        "# We always shorten netket as nk\n",
        "import netket as nk\n",
        "\n",
        "# Define a 1d chain\n",
        "L = 4\n",
        "g = nk.graph.Hypercube(length=L, n_dim=2, pbc=True)"
      ]
    },
    {
      "cell_type": "markdown",
      "metadata": {
        "id": "LSLNzmJwd4Ch"
      },
      "source": [
        "For a comprehensive look at the functionalities of a graph object, you can look at the API reference of the [Graph](https://netket.readthedocs.io/en/latest/api/_generated/graph/netket.graph.Graph.html#netket.graph.Graph) and [Lattice](https://netket.readthedocs.io/en/latest/api/_generated/graph/netket.graph.Lattice.html#netket.graph.Lattice) objects.\n",
        "\n",
        "The graph object is handy to quickly write the hamiltonian because it gives you easy access to the vertices (called nodes) and edges of the graph:"
      ]
    },
    {
      "cell_type": "code",
      "execution_count": 5,
      "metadata": {
        "tags": [],
        "colab": {
          "base_uri": "https://localhost:8080/"
        },
        "id": "6VnvZjH1d4Ci",
        "outputId": "71c1c387-938b-4750-9cc6-4e5556c96ee9"
      },
      "outputs": [
        {
          "output_type": "stream",
          "name": "stdout",
          "text": [
            "g.n_nodes: 16\n",
            "g.nodes: [0, 1, 2, 3, 4, 5, 6, 7, 8, 9, 10, 11, 12, 13, 14, 15]\n",
            "g.n_edges: 32\n",
            "g.edges: [(3, 7), (12, 13), (8, 9), (8, 12), (2, 14), (13, 14), (4, 5), (5, 6), (4, 8), (12, 15), (5, 9), (14, 15), (3, 15), (8, 11), (0, 1), (9, 10), (1, 2), (0, 4), (9, 13), (10, 11), (1, 5), (10, 14), (6, 7), (6, 10), (4, 7), (0, 3), (0, 12), (2, 3), (1, 13), (2, 6), (11, 15), (7, 11)]\n"
          ]
        }
      ],
      "source": [
        "# The number of sites (called nodes):\n",
        "print(\"g.n_nodes:\", g.n_nodes)\n",
        "# You can iterate through the nodes:\n",
        "print(\"g.nodes:\", [node for node in g.nodes()])\n",
        "# You can check the number of edges:\n",
        "print(\"g.n_edges:\", g.n_edges)\n",
        "# You can iterate through the edges, which are stored as a 2-tuple with the start and end node:\n",
        "print(\"g.edges:\", g.edges())"
      ]
    },
    {
      "cell_type": "markdown",
      "metadata": {
        "id": "ID-NSGgQd4Ci"
      },
      "source": [
        "Finally, you can also look at the lattice in all its glory"
      ]
    },
    {
      "cell_type": "code",
      "execution_count": 6,
      "metadata": {
        "tags": [],
        "colab": {
          "base_uri": "https://localhost:8080/",
          "height": 472
        },
        "id": "4HQKrTI3d4Ci",
        "outputId": "10327772-fd10-413c-c51d-a6322f64dcf1"
      },
      "outputs": [
        {
          "output_type": "display_data",
          "data": {
            "text/plain": [
              "<Figure size 640x480 with 1 Axes>"
            ],
            "image/png": "[encoded data removed]"
          },
          "metadata": {}
        }
      ],
      "source": [
        "g.draw();"
      ]
    },
    {
      "cell_type": "markdown",
      "metadata": {
        "id": "h9jZpxWsd4Ci"
      },
      "source": [
        "Remember about those things. They will be useful later."
      ]
    },
    {
      "cell_type": "markdown",
      "metadata": {
        "id": "foJbZGTOd4Cj"
      },
      "source": [
        "Next, NetKet asks us to define the computational space (or basis) for this calculation."
      ]
    },
    {
      "cell_type": "code",
      "execution_count": 7,
      "metadata": {
        "tags": [],
        "colab": {
          "base_uri": "https://localhost:8080/"
        },
        "id": "NP-KUu2dd4Cj",
        "outputId": "ef6469d2-c1c2-4a43-cc62-e2a245b191e5"
      },
      "outputs": [
        {
          "output_type": "stream",
          "name": "stderr",
          "text": [
            "<ipython-input-7-6019de13a831>:3: UndeclaredSpinOderingWarning: \n",
            "You have not explicitly specified the spin ordering for the Hilbert space.\n",
            "The default behaviour is currently `-1=↑, 1=↓`, but it will be changed 1st january 2025 to `1=↑, -1=↓`.\n",
            "\n",
            "- To maintain the current behaviour in the future, specify `inverted_ordering=True` (this\n",
            "    allows you to load NN parameters you have saved in the past)\n",
            "- To opt-in today in the future default, specify `inverted_ordering=False` (so your code will\n",
            "    work without changes in the future)\n",
            "\n",
            "If you do not care about this warning, you can silence it by setting the environment variable\n",
            "`NETKET_SPIN_ORDERING_WARNING=0` or by executing `nk.config.netket_spin_ordering_warning = False`\n",
            "\n",
            "This warning will be shown once per day during interactive sessions, and always in scripts and MPI/SLURM jobs unless silenced.\n",
            "\n",
            "\n",
            "-------------------------------------------------------\n",
            "For more detailed informations, visit the following link:\n",
            "\t https://netket.readthedocs.io/en/latest/api/_generated/errors/netket.errors.UndeclaredSpinOderingWarning.html\n",
            "or the list of all common errors and warnings at\n",
            "\t https://netket.readthedocs.io/en/latest/api/errors.html\n",
            "-------------------------------------------------------\n",
            "\n",
            "  hi = nk.hilbert.Spin(s=1/2, N=g.n_nodes)\n"
          ]
        }
      ],
      "source": [
        "# Define the Hilbert space based on this graph\n",
        "# We impose to have a fixed total magnetization of zero\n",
        "hi = nk.hilbert.Spin(s=1/2, N=g.n_nodes)"
      ]
    },
    {
      "cell_type": "markdown",
      "metadata": {
        "id": "SkWI2YcGd4Cj"
      },
      "source": [
        "This is somewhat a fundamental object, and you must often declare it. Mainly, it defines how many degrees of freedom you have and how you store configurations. In this case, the hilbert space stores them as a local variable +1 or -1.\n",
        "\n",
        "Then we must define the Hamiltonian. In NetKet you can build individual operators acting on a site by calling the following three functions"
      ]
    },
    {
      "cell_type": "code",
      "execution_count": 8,
      "metadata": {
        "tags": [],
        "id": "p90RUuObd4Cj"
      },
      "outputs": [],
      "source": [
        "sx_1 = nk.operator.spin.sigmax(hi, 1)\n",
        "sy_2 = nk.operator.spin.sigmay(hi, 2)\n",
        "sz_2 = nk.operator.spin.sigmaz(hi, 2)"
      ]
    },
    {
      "cell_type": "markdown",
      "metadata": {
        "id": "6LBnElAyd4Cj"
      },
      "source": [
        "The functions in `nk.operator.spin` and `nk.operator.boson` are used to create the fundamental operators that can be used to build arbitrary observables and Hamiltonians.\n",
        "Those functions return an object of type [LocalOperator](https://netket.readthedocs.io/en/latest/api/_generated/operator/netket.operator.LocalOperator.html#netket.operator.LocalOperator), which behaves as some sort of sparse matrix that is optimised to be used in the context of Variational Monte Carlo.\n",
        "\n",
        ":::{note}\n",
        "A `LocalOperator` can efficiently represent only operators that have a small domain in the computational basis: this means that an operator acting on 1 or 2 qubits will be efficiently represented, but one that acts on many qubits at once will not be.\n",
        "\n",
        "This is particularly important for operators such as projectors on a single configuration, such as $ |\\sigma_1\\dots \\sigma_N\\rangle \\langle \\sigma_1\\dots \\sigma_N| $, or projectors on an arbitrary wave-function.\n",
        "Those cannot be efficiently represented as LocalOperators.\n",
        "\n",
        "NetKet also implements other types of operators, which have a different cost/complexity scaling. Look at the published paper for more informations.\n",
        ":::\n",
        "\n",
        "A LocalOperator can be printed, and has the following representation:"
      ]
    },
    {
      "cell_type": "code",
      "execution_count": 9,
      "metadata": {
        "tags": [],
        "colab": {
          "base_uri": "https://localhost:8080/"
        },
        "id": "VHA6rEp2d4Ck",
        "outputId": "d8a993ca-7db0-40cd-aa82-5cf0ced8d732"
      },
      "outputs": [
        {
          "output_type": "stream",
          "name": "stdout",
          "text": [
            "LocalOperator(dim=16, acting_on=[(1,)], constant=0.0, dtype=float64)\n"
          ]
        }
      ],
      "source": [
        "print(sx_1)"
      ]
    },
    {
      "cell_type": "markdown",
      "metadata": {
        "id": "GGBZ4Nwld4Ck"
      },
      "source": [
        "The informations you see tells you that:\n",
        " * `dim`: The hilbert space has 16 local degrees of freedom\n",
        " * `acting_on`: this specific operator is composed by terms that act on the single site 1\n",
        " * `constant`: this is a diagonal shift proportional to the identity. In this case it is 0\n",
        " * `dtype`: the numpy data-type of the matrix elements. This allows you to store operators in single or double precision, or as real or complex valued operators. For most use cases, you can not worry about this, but if you want to squeeze every last drop of performance from a GPU you should pay attention to this."
      ]
    },
    {
      "cell_type": "markdown",
      "metadata": {
        "id": "nlS5sJBvd4Ck"
      },
      "source": [
        "You then can combine those operators together together by multiplying, adding them or subtracting them. Try to build the Transverse field ising hamiltonian by combining those operators while iterating through the edges in the lattice.\n",
        "\n",
        "$$\n",
        "\\mathcal{H}=-h\\sum_{i}\\sigma_{i}^{(x)}+J\\sum_{\\langle i,j \\rangle}\\sigma_{i}^{(z)}\\sigma_{j}^{(z)}.\n",
        "$$\n",
        "\n",
        "where $h=1$ and $J=1$ .\n",
        "Now it's your turn.\n",
        "\n",
        "Try to convert the equation above to code, using the operators that were discussed before (`nk.operator.spin.sigmax` and `nk.operator.spin.sigmaz`).\n",
        "\n",
        "Try to complete the code below:"
      ]
    },
    {
      "cell_type": "code",
      "execution_count": 10,
      "metadata": {
        "tags": [],
        "id": "E9v2lhHVd4Ck"
      },
      "outputs": [],
      "source": [
        "# This creates an empty operator (or zero) to which you can add others.\n",
        "hamiltonian = nk.operator.LocalOperator(hi)\n",
        "\n",
        "# now add all terms acting on single sites\n",
        "hx, hy = 0.5, 0.5\n",
        "for site in g.nodes():\n",
        "  hamiltonian = hamiltonian - hx*nk.operator.spin.sigmax(hi, site) - hy*nk.operator.spin.sigmay(hi, site) # every node (take the list of nodes from the graph object g that we constructed before)\n",
        "    # TODO\n",
        "\n",
        "    # now add all terms acting on multiple sites\n",
        "for (i,j) in g.edges(): # every edge (take the list of edges from the graph object)\n",
        "    hamiltonian += nk.operator.spin.sigmaz(hi,i) @ nk.operator.spin.sigmaz(hi,j) # TODO\n"
      ]
    },
    {
      "cell_type": "markdown",
      "metadata": {
        "id": "pOgaxaved4Cl"
      },
      "source": [
        "To check if your implementation is correct, you can run this following line.\n",
        "It will error if your implementation is wrong."
      ]
    },
    {
      "cell_type": "code",
      "execution_count": 11,
      "metadata": {
        "tags": [],
        "colab": {
          "base_uri": "https://localhost:8080/",
          "height": 176
        },
        "id": "EvwCOuNSd4Cl",
        "outputId": "37525e5b-2101-418d-92fb-36e5bdf50b0c"
      },
      "outputs": [
        {
          "output_type": "error",
          "ename": "AssertionError",
          "evalue": "",
          "traceback": [
            "\u001b[0;31m---------------------------------------------------------------------------\u001b[0m",
            "\u001b[0;31mAssertionError\u001b[0m                            Traceback (most recent call last)",
            "\u001b[0;32m<ipython-input-11-4b31f70dbc63>\u001b[0m in \u001b[0;36m<cell line: 4>\u001b[0;34m()\u001b[0m\n\u001b[1;32m      2\u001b[0m \u001b[0;34m\u001b[0m\u001b[0m\n\u001b[1;32m      3\u001b[0m \u001b[0mhamiltonian_correct\u001b[0m \u001b[0;34m=\u001b[0m \u001b[0mnk\u001b[0m\u001b[0;34m.\u001b[0m\u001b[0moperator\u001b[0m\u001b[0;34m.\u001b[0m\u001b[0mIsing\u001b[0m\u001b[0;34m(\u001b[0m\u001b[0mhi\u001b[0m\u001b[0;34m,\u001b[0m \u001b[0mg\u001b[0m\u001b[0;34m,\u001b[0m \u001b[0mh\u001b[0m\u001b[0;34m=\u001b[0m\u001b[0;36m1.0\u001b[0m\u001b[0;34m,\u001b[0m \u001b[0mJ\u001b[0m\u001b[0;34m=\u001b[0m\u001b[0;36m1.0\u001b[0m\u001b[0;34m)\u001b[0m\u001b[0;34m\u001b[0m\u001b[0;34m\u001b[0m\u001b[0m\n\u001b[0;32m----> 4\u001b[0;31m \u001b[0;32massert\u001b[0m \u001b[0mnp\u001b[0m\u001b[0;34m.\u001b[0m\u001b[0msum\u001b[0m\u001b[0;34m(\u001b[0m\u001b[0mnp\u001b[0m\u001b[0;34m.\u001b[0m\u001b[0mabs\u001b[0m\u001b[0;34m(\u001b[0m\u001b[0mhamiltonian_correct\u001b[0m\u001b[0;34m.\u001b[0m\u001b[0mto_sparse\u001b[0m\u001b[0;34m(\u001b[0m\u001b[0;34m)\u001b[0m \u001b[0;34m-\u001b[0m \u001b[0mhamiltonian\u001b[0m\u001b[0;34m.\u001b[0m\u001b[0mto_sparse\u001b[0m\u001b[0;34m(\u001b[0m\u001b[0;34m)\u001b[0m\u001b[0;34m)\u001b[0m\u001b[0;34m**\u001b[0m\u001b[0;36m2\u001b[0m\u001b[0;34m)\u001b[0m \u001b[0;34m<\u001b[0m \u001b[0;36m1e-5\u001b[0m\u001b[0;34m\u001b[0m\u001b[0;34m\u001b[0m\u001b[0m\n\u001b[0m",
            "\u001b[0;31mAssertionError\u001b[0m: "
          ]
        }
      ],
      "source": [
        "import numpy as np\n",
        "\n",
        "hamiltonian_correct = nk.operator.Ising(hi, g, h=1.0, J=1.0)\n",
        "assert np.sum(np.abs(hamiltonian_correct.to_sparse() - hamiltonian.to_sparse())**2) < 1e-5"
      ]
    },
    {
      "cell_type": "markdown",
      "metadata": {
        "id": "laMgGvkBd4Cl"
      },
      "source": [
        "Most operators in NetKet are implemented in Numba and they are not compatible with `jax.jit`. However, some particular operator formats are implemented both in `numba`and in a `jax.jit-`compatible format.\n",
        "\n",
        "To make the rest of the tutorial easier on the reader, we will now convert the operator to a format that makes those operators jax-friendly, such that you can pass them to jax functions without problems.\n",
        "\n",
        "To do this, first we convert your hamiltonian from the `LocalOperator` format to the `PauliStrings` format by calling `.to_pauli_strings()`, and then we convert the `PauliStrings` operator to the jax format by calling `to_jax_operator()`.\n",
        "\n",
        "The reason why we have so many formats for operators is because they have different performance characteristics that even we don't fully understand completely. We give users several possible choices such that the user can try and find the best for his use-case."
      ]
    },
    {
      "cell_type": "code",
      "execution_count": 12,
      "metadata": {
        "tags": [],
        "id": "RrILg2G-d4Cl"
      },
      "outputs": [],
      "source": [
        "hamiltonian_jax = hamiltonian.to_pauli_strings().to_jax_operator()"
      ]
    },
    {
      "cell_type": "markdown",
      "metadata": {
        "id": "xg05b8MHd4Cl"
      },
      "source": [
        "You can also convert those operators to sparse. You will get a `jax.experimental.sparse` matrix."
      ]
    },
    {
      "cell_type": "code",
      "execution_count": 13,
      "metadata": {
        "tags": [],
        "colab": {
          "base_uri": "https://localhost:8080/"
        },
        "id": "L25nVaJjd4Cm",
        "outputId": "0831211a-2160-4c94-9e78-03eb18300437"
      },
      "outputs": [
        {
          "output_type": "execute_result",
          "data": {
            "text/plain": [
              "BCSR(complex128[65536, 65536], nse=1114112)"
            ]
          },
          "metadata": {},
          "execution_count": 13
        }
      ],
      "source": [
        "hamiltonian_jax.to_sparse()"
      ]
    },
    {
      "cell_type": "markdown",
      "metadata": {
        "id": "IjtTXt7Sd4Cm"
      },
      "source": [
        "## 2. Exact Diagonalization (as a testbed)\n",
        "\n",
        "Just as a matter of future comparison, let's compute the exact ground-state energy (since this is still possible for up to $N=24$ sites using brute-force exact diagonalization).\n",
        "\n",
        "You can convert your operator to a sparse matrix with the method `.to_sparse()`. Now use scipy to diagonalise it and extract the lowest eigenvalue.\n",
        "\n",
        "Note that the standard hamiltonian `hamiltonian` can be converted to a scipy sparse matrix easily, while the jax-hamiltonian `hamiltonian_jax` is converted to a jax sparse matrix. Therefore chose wisely what format you want to use for exact diagonalisation!"
      ]
    },
    {
      "cell_type": "code",
      "execution_count": 15,
      "metadata": {
        "tags": [],
        "colab": {
          "base_uri": "https://localhost:8080/"
        },
        "id": "igVQ4VVqd4Cm",
        "outputId": "e51c983f-6bfc-4437-d5b2-dd75d6d5719f"
      },
      "outputs": [
        {
          "output_type": "execute_result",
          "data": {
            "text/plain": [
              "(-33.00262560818493,\n",
              " array([4.14116986e-09+3.24385934e-09j, 3.64543994e-09+3.00030796e-08j,\n",
              "        3.64551169e-09+3.00027051e-08j, ...,\n",
              "        3.00030796e-08-3.64543990e-09j, 3.00027051e-08-3.64551167e-09j,\n",
              "        4.14116976e-09+3.24385897e-09j]))"
            ]
          },
          "metadata": {},
          "execution_count": 15
        }
      ],
      "source": [
        "# TODO\n",
        "\n",
        "# compute the two values\n",
        "e_gs, psi_gs"
      ]
    },
    {
      "cell_type": "code",
      "execution_count": 14,
      "metadata": {
        "tags": [],
        "colab": {
          "base_uri": "https://localhost:8080/"
        },
        "id": "U-kOPn1Wd4Cm",
        "outputId": "c593b701-36fe-4eca-97ad-2a2059d3a088"
      },
      "outputs": [
        {
          "output_type": "execute_result",
          "data": {
            "text/plain": [
              "-33.00262560818493"
            ]
          },
          "metadata": {},
          "execution_count": 14
        }
      ],
      "source": [
        "# todelete\n",
        "from scipy.sparse.linalg import eigsh\n",
        "ha = hamiltonian.to_sparse()\n",
        "e_gs, psi_gs = eigsh(ha, k=1)\n",
        "e_gs = e_gs[0]\n",
        "psi_gs = psi_gs.reshape(-1)\n",
        "e_gs"
      ]
    },
    {
      "cell_type": "code",
      "execution_count": null,
      "metadata": {
        "tags": [],
        "id": "JhEHK61_d4Cn"
      },
      "outputs": [],
      "source": [
        "# if all is good, this cell should validate\n",
        "assert e_gs.shape == ()\n",
        "assert psi_gs.shape == (hi.n_states, )\n",
        "assert -34.01060 < e_gs < -34.01059"
      ]
    },
    {
      "cell_type": "markdown",
      "metadata": {
        "id": "lb_aIV63d4Cn"
      },
      "source": [
        "## 3. Variational Ansatz & variational energy\n",
        "\n",
        "In this section I would like to guide you to write a small code to compute the energy given a variational ansatz.\n",
        "The calculation should be done exactly, but structured in a set of functions as I will suggest you...\n",
        "\n",
        "First, let's define the variational ansatz. This time I write it. Later you will have to write one yourself.\n",
        "\n",
        "### 3.1 Mean-Field Ansatz\n",
        "\n",
        "We now would like to find a variational approximation of the ground state of this Hamiltonian. As a first step, we can try to use a very simple mean field ansatz:\n",
        "\n",
        "$$ \\langle \\sigma^{z}_1,\\dots \\sigma^{z}_N| \\Psi_{\\mathrm{mf}} \\rangle = \\Pi_{i=1}^{N} \\Phi(\\sigma^{z}_i), $$\n",
        "\n",
        "where the variational parameters are the single-spin wave functions, which we can further take to be normalized:\n",
        "\n",
        "$$ |\\Phi(\\uparrow)|^2 + |\\Phi(\\downarrow)|^2 =1, $$\n",
        "\n",
        "and we can further write $ \\Phi(\\sigma^z) = \\sqrt{P(\\sigma^z)}e^{i \\phi(\\sigma^z)}$. In order to simplify the presentation, we take here and in the following examples the phase $ \\phi=0 $. In this specific model this is without loss of generality, since it is known that the ground state is real and positive.\n",
        "\n",
        "For the normalized single-spin probability we will take a sigmoid form:\n",
        "\n",
        "$$ P(\\sigma_z; \\lambda) = 1/(1+\\exp(-\\lambda \\sigma_z)), $$\n",
        "\n",
        "thus depending on the real-valued variational parameter $\\lambda$.\n",
        "In NetKet one has to define a variational function approximating the **logarithm** of the wave-function amplitudes (or density-matrix values).\n",
        "We call this variational function _the Model_ (yes, caps on the M).\n",
        "\n",
        "$$ \\langle \\sigma^{z}_1,\\dots \\sigma^{z}_N| \\Psi_{\\mathrm{mf}} \\rangle = \\exp\\left[\\mathrm{Model}(\\sigma^{z}_1,\\dots \\sigma^{z}_N ; \\theta ) \\right], $$\n",
        "\n",
        "where $\\theta$ is a set of parameters.\n",
        "In this case, the parameter of the model will be just one: $\\lambda$.  \n",
        "\n",
        "The Model can be defined using one of the several *functional* jax frameworks such as Jax/Stax, Flax or Haiku.\n",
        "NetKet includes several pre-built models and layers built with [Flax](https://github.com/google/flax), so we will be using it for the rest of the notebook."
      ]
    },
    {
      "cell_type": "code",
      "execution_count": 16,
      "metadata": {
        "tags": [],
        "id": "S2IF0cpfd4Cn"
      },
      "outputs": [],
      "source": [
        "import jax\n",
        "\n",
        "# numerical operations in the model should always use jax.numpy\n",
        "# instead of numpy because jax supports computing derivatives.\n",
        "# If you want to better understand the difference between the two, check\n",
        "# https://flax.readthedocs.io/en/latest/notebooks/jax_for_the_impatient.html\n",
        "import jax.numpy as jnp\n",
        "\n",
        "# Flax is a framework to define models using jax\n",
        "import flax\n",
        "# we refer to `flax.linen` as `nn`. It's a repository of\n",
        "# layers, initializers and nonlinear functions.\n",
        "import flax.linen as nn\n",
        "\n",
        "# A Flax model must be a class subclassing `nn.Module`\n",
        "class MF(nn.Module):\n",
        "\n",
        "    # The most compact way to define the model is this.\n",
        "    # The __call__(self, x) function should take as\n",
        "    # input a batch of states x.shape = (n_samples, N)\n",
        "    # and should return a vector of n_samples log-amplitudes\n",
        "    @nn.compact\n",
        "    def __call__(self, x):\n",
        "\n",
        "        # A tensor of variational parameters is defined by calling\n",
        "        # the method `self.param` where the arguments will be:\n",
        "        # - arbitrary name used to refer to this set of parameters\n",
        "        # - an initializer used to provide the initial values.\n",
        "        # - The shape of the tensor\n",
        "        # - The dtype of the tensor.\n",
        "        lam = self.param(\n",
        "            \"lambda\", nn.initializers.normal(), (1,), float\n",
        "        )\n",
        "\n",
        "        # compute the probabilities\n",
        "        p = nn.log_sigmoid(lam*x)\n",
        "\n",
        "        # sum the output\n",
        "        return 0.5 * jnp.sum(p, axis=-1)"
      ]
    },
    {
      "cell_type": "markdown",
      "metadata": {
        "id": "6FI79u7Pd4Cn"
      },
      "source": [
        "The model itself is only a set of instructions on how to initialise the parameters and how to compute the result.\n",
        "\n",
        "To initialise the parameters we do the following:"
      ]
    },
    {
      "cell_type": "code",
      "execution_count": 17,
      "metadata": {
        "tags": [],
        "id": "hyqeiO3Dd4Cn"
      },
      "outputs": [],
      "source": [
        "# create an instance of the model\n",
        "model = MF()\n",
        "\n",
        "# pick a RNG key to initialise the random parameters\n",
        "key = jax.random.key(0)\n",
        "\n",
        "# initialise the weights\n",
        "parameters = model.init(key, np.random.rand(hi.size))"
      ]
    },
    {
      "cell_type": "code",
      "execution_count": null,
      "metadata": {
        "tags": [],
        "id": "znSx8841d4Cs"
      },
      "outputs": [],
      "source": [
        "# parameters are stored as a 'pytree', that is, a dictionary of dictionaries whose leafs are numerical arrays"
      ]
    },
    {
      "cell_type": "code",
      "execution_count": 18,
      "metadata": {
        "tags": [],
        "colab": {
          "base_uri": "https://localhost:8080/"
        },
        "id": "2ty2B1Pld4Cs",
        "outputId": "8b4dfce9-15b1-4fa3-ff7e-f5e97a1cee77"
      },
      "outputs": [
        {
          "output_type": "execute_result",
          "data": {
            "text/plain": [
              "{'params': {'lambda': Array([-0.02033396], dtype=float64)}}"
            ]
          },
          "metadata": {},
          "execution_count": 18
        }
      ],
      "source": [
        "parameters"
      ]
    },
    {
      "cell_type": "markdown",
      "metadata": {
        "id": "S7iR82r1d4Ct"
      },
      "source": [
        "Conceptually, parameters are vectors, even though they are stored in memory differently. You can apply mathematical operations to those vectors using `jax.tree.map(function, trees...)`, which calls the function on every element of the pytrees."
      ]
    },
    {
      "cell_type": "code",
      "execution_count": 19,
      "metadata": {
        "tags": [],
        "colab": {
          "base_uri": "https://localhost:8080/"
        },
        "id": "DDBMVG67d4Ct",
        "outputId": "b141691e-7954-4268-bdc4-38f98e43d802"
      },
      "outputs": [
        {
          "output_type": "stream",
          "name": "stdout",
          "text": [
            "multiply_by_10:              {'a': 10, 'b': 20}\n",
            "multiply_by_10, with lambda: {'a': 10, 'b': 20}\n",
            "add dict1 and 2          : {'a': 2, 'b': 0}\n",
            "subtract dict1 and 2        : {'a': 0, 'b': 4}\n",
            "subtract dict1 and 2, lambda: {'a': 0, 'b': 4}\n"
          ]
        }
      ],
      "source": [
        "dict1 = {'a':1, 'b':2}\n",
        "dict2 = {'a':1, 'b':-2}\n",
        "\n",
        "def multiply_by_10(x):\n",
        "    return 10*x\n",
        "\n",
        "print(\"multiply_by_10:             \", jax.tree.map(multiply_by_10,  dict1))\n",
        "# this can also be done by defining the function as a lambda function, which is more compact\n",
        "print(\"multiply_by_10, with lambda:\", jax.tree.map(lambda x: 10*x,  dict1))\n",
        "\n",
        "def add(x,y):\n",
        "    return x+y\n",
        "print(\"add dict1 and 2          :\", jax.tree.map(add, dict1, dict2))\n",
        "\n",
        "\n",
        "def sub(x,y):\n",
        "    return x-y\n",
        "print(\"subtract dict1 and 2        :\", jax.tree.map(sub, dict1, dict2))\n",
        "print(\"subtract dict1 and 2, lambda:\", jax.tree.map(lambda x,y:x-y, dict1, dict2))\n"
      ]
    },
    {
      "cell_type": "markdown",
      "metadata": {
        "id": "9zmkSptnd4Ct"
      },
      "source": [
        "To evaluate the model for some parameters and a set of inputs you do the following"
      ]
    },
    {
      "cell_type": "code",
      "execution_count": 20,
      "metadata": {
        "tags": [],
        "colab": {
          "base_uri": "https://localhost:8080/"
        },
        "id": "IMf094rUd4Ct",
        "outputId": "d3bfd4b8-f61e-40a8-f383-b7363a396ab6"
      },
      "outputs": [
        {
          "output_type": "stream",
          "name": "stdout",
          "text": [
            "(4,)\n"
          ]
        }
      ],
      "source": [
        "# generate 4 random inputs\n",
        "inputs = hi.random_state(jax.random.key(1), (4,))\n",
        "\n",
        "log_psi = model.apply(parameters, inputs)\n",
        "# notice that logpsi has shape (4,) because we fed it 4 random configurations.\n",
        "print(log_psi.shape)"
      ]
    },
    {
      "cell_type": "markdown",
      "metadata": {
        "tags": [],
        "id": "Wb1IBkC0d4Cu"
      },
      "source": [
        "### 3.2. Your turn\n",
        "\n",
        "Remember that your function `model.apply` will evaluate `logpsi`, not the wavefunction itself.\n",
        "\n",
        "Write a function that takes as input the model and the parameters, and which returns the exponentiated wavefunction, properly normalised.\n"
      ]
    },
    {
      "cell_type": "code",
      "execution_count": 21,
      "metadata": {
        "tags": [],
        "id": "Jt7QmsWKd4Cu"
      },
      "outputs": [],
      "source": [
        "# TODO\n",
        "import jax.numpy as jnp\n",
        "from jax import jit\n",
        "\n",
        "def to_array(model, parameters): # -> Array:\n",
        "    # begin by generating all configurations in the hilbert space.\n",
        "    # all_States returns a batch of configurations that is (hi.n_states, N) large.\n",
        "    all_configurations = hi.all_states()\n",
        "\n",
        "\n",
        "    # now evaluate the model, and convert to a normalised wavefunction.\n",
        "    logpsi = model.apply(parameters, all_configurations)\n",
        "    psi = jnp.exp(logpsi)\n",
        "    psi = psi / jnp.linalg.norm(psi)\n",
        "    return psi"
      ]
    },
    {
      "cell_type": "code",
      "execution_count": 29,
      "metadata": {
        "tags": [],
        "id": "x8_u9c_6d4Cu"
      },
      "outputs": [],
      "source": [
        "# If you did it correctly, this test should pass\n",
        "\n",
        "assert to_array(model, parameters).shape == (hi.n_states, )\n",
        "assert np.all(to_array(model, parameters) > 0)\n",
        "np.testing.assert_allclose(np.linalg.norm(to_array(model, parameters)), 1.0)"
      ]
    },
    {
      "cell_type": "markdown",
      "metadata": {
        "id": "LL1A2jQ6d4Cu"
      },
      "source": [
        "If you implemented everything correctly using `jnp.` operations and not `np.` operations, we might as well be able to jit-compile the function to gain a speed boost!\n",
        "Try the following"
      ]
    },
    {
      "cell_type": "code",
      "execution_count": 22,
      "metadata": {
        "tags": [],
        "colab": {
          "base_uri": "https://localhost:8080/"
        },
        "id": "-wzncoXud4Cv",
        "outputId": "c7700284-ac0f-4a02-b932-dedb0f84e757"
      },
      "outputs": [
        {
          "output_type": "stream",
          "name": "stdout",
          "text": [
            "The slowest run took 8.72 times longer than the fastest. This could mean that an intermediate result is being cached.\n",
            "16.3 ms ± 13.5 ms per loop (mean ± std. dev. of 7 runs, 1 loop each)\n"
          ]
        }
      ],
      "source": [
        "%timeit to_array(model, parameters)"
      ]
    },
    {
      "cell_type": "markdown",
      "metadata": {
        "id": "AEfNx7Omd4Cv"
      },
      "source": [
        "that's quite slow. Instead we can compile it by doing"
      ]
    },
    {
      "cell_type": "code",
      "execution_count": 23,
      "metadata": {
        "tags": [],
        "colab": {
          "base_uri": "https://localhost:8080/"
        },
        "id": "Kv6RKPzad4Cv",
        "outputId": "4d25f7d5-2d04-4918-d72b-56c1abd73656"
      },
      "outputs": [
        {
          "output_type": "execute_result",
          "data": {
            "text/plain": [
              "Array([0.0042355 , 0.00419265, 0.00419265, ..., 0.0036364 , 0.0036364 ,\n",
              "       0.00359962], dtype=float64)"
            ]
          },
          "metadata": {},
          "execution_count": 23
        }
      ],
      "source": [
        "# static_argnames must be used to tag any argument that is not a pytree or an array. In this case, the model.\n",
        "to_array_jit = jax.jit(to_array, static_argnames=\"model\")\n",
        "\n",
        "# run it once to compile it, before benchmarking\n",
        "to_array_jit(model, parameters)"
      ]
    },
    {
      "cell_type": "markdown",
      "metadata": {
        "id": "GPpJ6wOQd4Cv"
      },
      "source": [
        "And it should already be a bit faster. Moreover, the speedup will be even larger when computing gradients or other complicated operations."
      ]
    },
    {
      "cell_type": "code",
      "execution_count": 24,
      "metadata": {
        "tags": [],
        "colab": {
          "base_uri": "https://localhost:8080/"
        },
        "id": "AZqvtq17d4Cw",
        "outputId": "f585d6b4-163c-4f63-9ad7-94b87990ba51"
      },
      "outputs": [
        {
          "output_type": "stream",
          "name": "stdout",
          "text": [
            "32.5 ms ± 4.25 ms per loop (mean ± std. dev. of 7 runs, 100 loops each)\n"
          ]
        }
      ],
      "source": [
        "%timeit to_array_jit(model, parameters)"
      ]
    },
    {
      "cell_type": "markdown",
      "metadata": {
        "id": "DkJ8fuvjd4Cw"
      },
      "source": [
        "### 3.3 Energy\n",
        "Now, using that function, let's build another one that computes the energy of the mean field state for the given parameters!\n",
        "To do that, you can for example convert the hamiltonian to a sparse format and compute the energy"
      ]
    },
    {
      "cell_type": "code",
      "execution_count": 43,
      "metadata": {
        "tags": [],
        "id": "l2YZoTBcd4Cw"
      },
      "outputs": [],
      "source": [
        "# todo\n",
        "def compute_energy(model, parameters, hamiltonian):\n",
        "    psi_gs = to_array(model, parameters)\n",
        "    # todo\n",
        "    psi_gs = psi_gs.astype(jnp.complex128)\n",
        "    return jnp.conj(psi_gs).T @ (hamiltonian_jax_sparse @ psi_gs)"
      ]
    },
    {
      "cell_type": "code",
      "execution_count": 31,
      "metadata": {
        "tags": [],
        "id": "gD8rvAmod4Cw"
      },
      "outputs": [],
      "source": [
        "# if all is good, this should not error\n",
        "assert compute_energy(model, parameters, hamiltonian.to_sparse()).shape == ()\n",
        "assert compute_energy(model, parameters, hamiltonian.to_sparse()) < 0"
      ]
    },
    {
      "cell_type": "code",
      "execution_count": 34,
      "metadata": {
        "tags": [],
        "id": "O4sOWj3bd4Cx"
      },
      "outputs": [],
      "source": [
        "# and like before, we can jit-compile it!\n",
        "compute_energy_jit = jax.jit(compute_energy, static_argnames=\"model\")\n",
        "\n",
        "# and we precompute the sparse-hamiltonian to avoid the overhead of re-computing them all the time\n",
        "hamiltonian_sparse = hamiltonian.to_sparse()\n",
        "hamiltonian_jax_sparse = hamiltonian_jax.to_sparse()"
      ]
    },
    {
      "cell_type": "markdown",
      "metadata": {
        "id": "tYOyHk6ld4Cx"
      },
      "source": [
        "Again, to show that jitting is useful, We can time the jitted and non-jitted versions."
      ]
    },
    {
      "cell_type": "code",
      "execution_count": 37,
      "metadata": {
        "tags": [],
        "colab": {
          "base_uri": "https://localhost:8080/",
          "height": 529
        },
        "id": "QHSWULHed4Cy",
        "outputId": "7d4b3b18-9103-4f95-f1e6-05f18744b7f1"
      },
      "outputs": [
        {
          "output_type": "stream",
          "name": "stdout",
          "text": [
            "The slowest run took 99.25 times longer than the fastest. This could mean that an intermediate result is being cached.\n",
            "472 ms ± 297 ms per loop (mean ± std. dev. of 7 runs, 1 loop each)\n"
          ]
        },
        {
          "output_type": "error",
          "ename": "TracerArrayConversionError",
          "evalue": "The numpy.ndarray conversion method __array__() was called on traced array with shape float64[65536]\nThe error occurred while tracing the function compute_energy at <ipython-input-33-24443311ce65>:2 for jit. This value became a tracer due to JAX operations on these lines:\n\n  operation a:f64[] = convert_element_type[new_dtype=float64 weak_type=False] b\n    from line <ipython-input-16-1e287236949e>:39 (__call__)\nSee https://jax.readthedocs.io/en/latest/errors.html#jax.errors.TracerArrayConversionError",
          "traceback": [
            "\u001b[0;31m---------------------------------------------------------------------------\u001b[0m",
            "\u001b[0;31mTracerArrayConversionError\u001b[0m                Traceback (most recent call last)",
            "\u001b[0;32m<ipython-input-37-fcab6e62f57b>\u001b[0m in \u001b[0;36m<cell line: 2>\u001b[0;34m()\u001b[0m\n\u001b[1;32m      1\u001b[0m \u001b[0mget_ipython\u001b[0m\u001b[0;34m(\u001b[0m\u001b[0;34m)\u001b[0m\u001b[0;34m.\u001b[0m\u001b[0mrun_line_magic\u001b[0m\u001b[0;34m(\u001b[0m\u001b[0;34m'timeit'\u001b[0m\u001b[0;34m,\u001b[0m \u001b[0;34m'compute_energy(model, parameters, hamiltonian_sparse)'\u001b[0m\u001b[0;34m)\u001b[0m\u001b[0;34m\u001b[0m\u001b[0;34m\u001b[0m\u001b[0m\n\u001b[0;32m----> 2\u001b[0;31m \u001b[0mget_ipython\u001b[0m\u001b[0;34m(\u001b[0m\u001b[0;34m)\u001b[0m\u001b[0;34m.\u001b[0m\u001b[0mrun_line_magic\u001b[0m\u001b[0;34m(\u001b[0m\u001b[0;34m'timeit'\u001b[0m\u001b[0;34m,\u001b[0m \u001b[0;34m'compute_energy_jit(model, parameters, hamiltonian_jax_sparse)'\u001b[0m\u001b[0;34m)\u001b[0m\u001b[0;34m\u001b[0m\u001b[0;34m\u001b[0m\u001b[0m\n\u001b[0m",
            "\u001b[0;32m/usr/local/lib/python3.10/dist-packages/IPython/core/interactiveshell.py\u001b[0m in \u001b[0;36mrun_line_magic\u001b[0;34m(self, magic_name, line, _stack_depth)\u001b[0m\n\u001b[1;32m   2416\u001b[0m                 \u001b[0mkwargs\u001b[0m\u001b[0;34m[\u001b[0m\u001b[0;34m'local_ns'\u001b[0m\u001b[0;34m]\u001b[0m \u001b[0;34m=\u001b[0m \u001b[0mself\u001b[0m\u001b[0;34m.\u001b[0m\u001b[0mget_local_scope\u001b[0m\u001b[0;34m(\u001b[0m\u001b[0mstack_depth\u001b[0m\u001b[0;34m)\u001b[0m\u001b[0;34m\u001b[0m\u001b[0;34m\u001b[0m\u001b[0m\n\u001b[1;32m   2417\u001b[0m             \u001b[0;32mwith\u001b[0m \u001b[0mself\u001b[0m\u001b[0;34m.\u001b[0m\u001b[0mbuiltin_trap\u001b[0m\u001b[0;34m:\u001b[0m\u001b[0;34m\u001b[0m\u001b[0;34m\u001b[0m\u001b[0m\n\u001b[0;32m-> 2418\u001b[0;31m                 \u001b[0mresult\u001b[0m \u001b[0;34m=\u001b[0m \u001b[0mfn\u001b[0m\u001b[0;34m(\u001b[0m\u001b[0;34m*\u001b[0m\u001b[0margs\u001b[0m\u001b[0;34m,\u001b[0m \u001b[0;34m**\u001b[0m\u001b[0mkwargs\u001b[0m\u001b[0;34m)\u001b[0m\u001b[0;34m\u001b[0m\u001b[0;34m\u001b[0m\u001b[0m\n\u001b[0m\u001b[1;32m   2419\u001b[0m             \u001b[0;32mreturn\u001b[0m \u001b[0mresult\u001b[0m\u001b[0;34m\u001b[0m\u001b[0;34m\u001b[0m\u001b[0m\n\u001b[1;32m   2420\u001b[0m \u001b[0;34m\u001b[0m\u001b[0m\n",
            "\u001b[0;32m<decorator-gen-53>\u001b[0m in \u001b[0;36mtimeit\u001b[0;34m(self, line, cell, local_ns)\u001b[0m\n",
            "\u001b[0;32m/usr/local/lib/python3.10/dist-packages/IPython/core/magic.py\u001b[0m in \u001b[0;36m<lambda>\u001b[0;34m(f, *a, **k)\u001b[0m\n\u001b[1;32m    185\u001b[0m     \u001b[0;31m# but it's overkill for just that one bit of state.\u001b[0m\u001b[0;34m\u001b[0m\u001b[0;34m\u001b[0m\u001b[0m\n\u001b[1;32m    186\u001b[0m     \u001b[0;32mdef\u001b[0m \u001b[0mmagic_deco\u001b[0m\u001b[0;34m(\u001b[0m\u001b[0marg\u001b[0m\u001b[0;34m)\u001b[0m\u001b[0;34m:\u001b[0m\u001b[0;34m\u001b[0m\u001b[0;34m\u001b[0m\u001b[0m\n\u001b[0;32m--> 187\u001b[0;31m         \u001b[0mcall\u001b[0m \u001b[0;34m=\u001b[0m \u001b[0;32mlambda\u001b[0m \u001b[0mf\u001b[0m\u001b[0;34m,\u001b[0m \u001b[0;34m*\u001b[0m\u001b[0ma\u001b[0m\u001b[0;34m,\u001b[0m \u001b[0;34m**\u001b[0m\u001b[0mk\u001b[0m\u001b[0;34m:\u001b[0m \u001b[0mf\u001b[0m\u001b[0;34m(\u001b[0m\u001b[0;34m*\u001b[0m\u001b[0ma\u001b[0m\u001b[0;34m,\u001b[0m \u001b[0;34m**\u001b[0m\u001b[0mk\u001b[0m\u001b[0;34m)\u001b[0m\u001b[0;34m\u001b[0m\u001b[0;34m\u001b[0m\u001b[0m\n\u001b[0m\u001b[1;32m    188\u001b[0m \u001b[0;34m\u001b[0m\u001b[0m\n\u001b[1;32m    189\u001b[0m         \u001b[0;32mif\u001b[0m \u001b[0mcallable\u001b[0m\u001b[0;34m(\u001b[0m\u001b[0marg\u001b[0m\u001b[0;34m)\u001b[0m\u001b[0;34m:\u001b[0m\u001b[0;34m\u001b[0m\u001b[0;34m\u001b[0m\u001b[0m\n",
            "\u001b[0;32m/usr/local/lib/python3.10/dist-packages/IPython/core/magics/execution.py\u001b[0m in \u001b[0;36mtimeit\u001b[0;34m(self, line, cell, local_ns)\u001b[0m\n\u001b[1;32m   1178\u001b[0m             \u001b[0;32mfor\u001b[0m \u001b[0mindex\u001b[0m \u001b[0;32min\u001b[0m \u001b[0mrange\u001b[0m\u001b[0;34m(\u001b[0m\u001b[0;36m0\u001b[0m\u001b[0;34m,\u001b[0m \u001b[0;36m10\u001b[0m\u001b[0;34m)\u001b[0m\u001b[0;34m:\u001b[0m\u001b[0;34m\u001b[0m\u001b[0;34m\u001b[0m\u001b[0m\n\u001b[1;32m   1179\u001b[0m                 \u001b[0mnumber\u001b[0m \u001b[0;34m=\u001b[0m \u001b[0;36m10\u001b[0m \u001b[0;34m**\u001b[0m \u001b[0mindex\u001b[0m\u001b[0;34m\u001b[0m\u001b[0;34m\u001b[0m\u001b[0m\n\u001b[0;32m-> 1180\u001b[0;31m                 \u001b[0mtime_number\u001b[0m \u001b[0;34m=\u001b[0m \u001b[0mtimer\u001b[0m\u001b[0;34m.\u001b[0m\u001b[0mtimeit\u001b[0m\u001b[0;34m(\u001b[0m\u001b[0mnumber\u001b[0m\u001b[0;34m)\u001b[0m\u001b[0;34m\u001b[0m\u001b[0;34m\u001b[0m\u001b[0m\n\u001b[0m\u001b[1;32m   1181\u001b[0m                 \u001b[0;32mif\u001b[0m \u001b[0mtime_number\u001b[0m \u001b[0;34m>=\u001b[0m \u001b[0;36m0.2\u001b[0m\u001b[0;34m:\u001b[0m\u001b[0;34m\u001b[0m\u001b[0;34m\u001b[0m\u001b[0m\n\u001b[1;32m   1182\u001b[0m                     \u001b[0;32mbreak\u001b[0m\u001b[0;34m\u001b[0m\u001b[0;34m\u001b[0m\u001b[0m\n",
            "\u001b[0;32m/usr/local/lib/python3.10/dist-packages/IPython/core/magics/execution.py\u001b[0m in \u001b[0;36mtimeit\u001b[0;34m(self, number)\u001b[0m\n\u001b[1;32m    167\u001b[0m         \u001b[0mgc\u001b[0m\u001b[0;34m.\u001b[0m\u001b[0mdisable\u001b[0m\u001b[0;34m(\u001b[0m\u001b[0;34m)\u001b[0m\u001b[0;34m\u001b[0m\u001b[0;34m\u001b[0m\u001b[0m\n\u001b[1;32m    168\u001b[0m         \u001b[0;32mtry\u001b[0m\u001b[0;34m:\u001b[0m\u001b[0;34m\u001b[0m\u001b[0;34m\u001b[0m\u001b[0m\n\u001b[0;32m--> 169\u001b[0;31m             \u001b[0mtiming\u001b[0m \u001b[0;34m=\u001b[0m \u001b[0mself\u001b[0m\u001b[0;34m.\u001b[0m\u001b[0minner\u001b[0m\u001b[0;34m(\u001b[0m\u001b[0mit\u001b[0m\u001b[0;34m,\u001b[0m \u001b[0mself\u001b[0m\u001b[0;34m.\u001b[0m\u001b[0mtimer\u001b[0m\u001b[0;34m)\u001b[0m\u001b[0;34m\u001b[0m\u001b[0;34m\u001b[0m\u001b[0m\n\u001b[0m\u001b[1;32m    170\u001b[0m         \u001b[0;32mfinally\u001b[0m\u001b[0;34m:\u001b[0m\u001b[0;34m\u001b[0m\u001b[0;34m\u001b[0m\u001b[0m\n\u001b[1;32m    171\u001b[0m             \u001b[0;32mif\u001b[0m \u001b[0mgcold\u001b[0m\u001b[0;34m:\u001b[0m\u001b[0;34m\u001b[0m\u001b[0;34m\u001b[0m\u001b[0m\n",
            "\u001b[0;32m<magic-timeit>\u001b[0m in \u001b[0;36minner\u001b[0;34m(_it, _timer)\u001b[0m\n",
            "    \u001b[0;31m[... skipping hidden 11 frame]\u001b[0m\n",
            "\u001b[0;32m<ipython-input-33-24443311ce65>\u001b[0m in \u001b[0;36mcompute_energy\u001b[0;34m(model, parameters, hamiltonian)\u001b[0m\n\u001b[1;32m      3\u001b[0m     \u001b[0mpsi_gs\u001b[0m \u001b[0;34m=\u001b[0m \u001b[0mto_array\u001b[0m\u001b[0;34m(\u001b[0m\u001b[0mmodel\u001b[0m\u001b[0;34m,\u001b[0m \u001b[0mparameters\u001b[0m\u001b[0;34m)\u001b[0m\u001b[0;34m\u001b[0m\u001b[0;34m\u001b[0m\u001b[0m\n\u001b[1;32m      4\u001b[0m     \u001b[0;31m# todo\u001b[0m\u001b[0;34m\u001b[0m\u001b[0;34m\u001b[0m\u001b[0m\n\u001b[0;32m----> 5\u001b[0;31m     \u001b[0;32mreturn\u001b[0m \u001b[0mjnp\u001b[0m\u001b[0;34m.\u001b[0m\u001b[0mconj\u001b[0m\u001b[0;34m(\u001b[0m\u001b[0mpsi_gs\u001b[0m\u001b[0;34m)\u001b[0m\u001b[0;34m.\u001b[0m\u001b[0mT\u001b[0m \u001b[0;34m@\u001b[0m \u001b[0;34m(\u001b[0m\u001b[0mhamiltonian_sparse\u001b[0m \u001b[0;34m@\u001b[0m \u001b[0mpsi_gs\u001b[0m\u001b[0;34m)\u001b[0m\u001b[0;34m\u001b[0m\u001b[0;34m\u001b[0m\u001b[0m\n\u001b[0m",
            "\u001b[0;32m/usr/local/lib/python3.10/dist-packages/scipy/sparse/_base.py\u001b[0m in \u001b[0;36m__matmul__\u001b[0;34m(self, other)\u001b[0m\n\u001b[1;32m    693\u001b[0m             raise ValueError(\"Scalar operands are not allowed, \"\n\u001b[1;32m    694\u001b[0m                              \"use '*' instead\")\n\u001b[0;32m--> 695\u001b[0;31m         \u001b[0;32mreturn\u001b[0m \u001b[0mself\u001b[0m\u001b[0;34m.\u001b[0m\u001b[0m_matmul_dispatch\u001b[0m\u001b[0;34m(\u001b[0m\u001b[0mother\u001b[0m\u001b[0;34m)\u001b[0m\u001b[0;34m\u001b[0m\u001b[0;34m\u001b[0m\u001b[0m\n\u001b[0m\u001b[1;32m    696\u001b[0m \u001b[0;34m\u001b[0m\u001b[0m\n\u001b[1;32m    697\u001b[0m     \u001b[0;32mdef\u001b[0m \u001b[0m__rmatmul__\u001b[0m\u001b[0;34m(\u001b[0m\u001b[0mself\u001b[0m\u001b[0;34m,\u001b[0m \u001b[0mother\u001b[0m\u001b[0;34m)\u001b[0m\u001b[0;34m:\u001b[0m\u001b[0;34m\u001b[0m\u001b[0;34m\u001b[0m\u001b[0m\n",
            "\u001b[0;32m/usr/local/lib/python3.10/dist-packages/scipy/sparse/_base.py\u001b[0m in \u001b[0;36m_matmul_dispatch\u001b[0;34m(self, other)\u001b[0m\n\u001b[1;32m    607\u001b[0m \u001b[0;34m\u001b[0m\u001b[0m\n\u001b[1;32m    608\u001b[0m         \u001b[0;31m# If it's a list or whatever, treat it like an array\u001b[0m\u001b[0;34m\u001b[0m\u001b[0;34m\u001b[0m\u001b[0m\n\u001b[0;32m--> 609\u001b[0;31m         \u001b[0mother_a\u001b[0m \u001b[0;34m=\u001b[0m \u001b[0mnp\u001b[0m\u001b[0;34m.\u001b[0m\u001b[0masanyarray\u001b[0m\u001b[0;34m(\u001b[0m\u001b[0mother\u001b[0m\u001b[0;34m)\u001b[0m\u001b[0;34m\u001b[0m\u001b[0;34m\u001b[0m\u001b[0m\n\u001b[0m\u001b[1;32m    610\u001b[0m \u001b[0;34m\u001b[0m\u001b[0m\n\u001b[1;32m    611\u001b[0m         \u001b[0;32mif\u001b[0m \u001b[0mother_a\u001b[0m\u001b[0;34m.\u001b[0m\u001b[0mndim\u001b[0m \u001b[0;34m==\u001b[0m \u001b[0;36m0\u001b[0m \u001b[0;32mand\u001b[0m \u001b[0mother_a\u001b[0m\u001b[0;34m.\u001b[0m\u001b[0mdtype\u001b[0m \u001b[0;34m==\u001b[0m \u001b[0mnp\u001b[0m\u001b[0;34m.\u001b[0m\u001b[0mobject_\u001b[0m\u001b[0;34m:\u001b[0m\u001b[0;34m\u001b[0m\u001b[0;34m\u001b[0m\u001b[0m\n",
            "\u001b[0;32m/usr/local/lib/python3.10/dist-packages/jax/_src/core.py\u001b[0m in \u001b[0;36m__array__\u001b[0;34m(self, *args, **kw)\u001b[0m\n\u001b[1;32m    713\u001b[0m \u001b[0;34m\u001b[0m\u001b[0m\n\u001b[1;32m    714\u001b[0m   \u001b[0;32mdef\u001b[0m \u001b[0m__array__\u001b[0m\u001b[0;34m(\u001b[0m\u001b[0mself\u001b[0m\u001b[0;34m,\u001b[0m \u001b[0;34m*\u001b[0m\u001b[0margs\u001b[0m\u001b[0;34m,\u001b[0m \u001b[0;34m**\u001b[0m\u001b[0mkw\u001b[0m\u001b[0;34m)\u001b[0m\u001b[0;34m:\u001b[0m\u001b[0;34m\u001b[0m\u001b[0;34m\u001b[0m\u001b[0m\n\u001b[0;32m--> 715\u001b[0;31m     \u001b[0;32mraise\u001b[0m \u001b[0mTracerArrayConversionError\u001b[0m\u001b[0;34m(\u001b[0m\u001b[0mself\u001b[0m\u001b[0;34m)\u001b[0m\u001b[0;34m\u001b[0m\u001b[0;34m\u001b[0m\u001b[0m\n\u001b[0m\u001b[1;32m    716\u001b[0m \u001b[0;34m\u001b[0m\u001b[0m\n\u001b[1;32m    717\u001b[0m   \u001b[0;32mdef\u001b[0m \u001b[0m__dlpack__\u001b[0m\u001b[0;34m(\u001b[0m\u001b[0mself\u001b[0m\u001b[0;34m,\u001b[0m \u001b[0;34m*\u001b[0m\u001b[0margs\u001b[0m\u001b[0;34m,\u001b[0m \u001b[0;34m**\u001b[0m\u001b[0mkw\u001b[0m\u001b[0;34m)\u001b[0m\u001b[0;34m:\u001b[0m\u001b[0;34m\u001b[0m\u001b[0;34m\u001b[0m\u001b[0m\n",
            "\u001b[0;31mTracerArrayConversionError\u001b[0m: The numpy.ndarray conversion method __array__() was called on traced array with shape float64[65536]\nThe error occurred while tracing the function compute_energy at <ipython-input-33-24443311ce65>:2 for jit. This value became a tracer due to JAX operations on these lines:\n\n  operation a:f64[] = convert_element_type[new_dtype=float64 weak_type=False] b\n    from line <ipython-input-16-1e287236949e>:39 (__call__)\nSee https://jax.readthedocs.io/en/latest/errors.html#jax.errors.TracerArrayConversionError"
          ]
        }
      ],
      "source": [
        "%timeit compute_energy(model, parameters, hamiltonian_sparse)\n",
        "%timeit compute_energy_jit(model, parameters, hamiltonian_jax_sparse)"
      ]
    },
    {
      "cell_type": "markdown",
      "metadata": {
        "tags": [],
        "id": "DaejRHAdd4Cy"
      },
      "source": [
        "### 3.4 Gradient of the energy\n",
        "\n",
        "As we used jax so far, we can easily compute the gradient of the energy by simply calling one function: `jax.grad(compute_energy, argnum=1)`, where argnum signals wrt which argument we want to compute the gradient (the 0 is the model, which is not actually an array so we cannot differentiate, the second is the parameters, so that's the one"
      ]
    },
    {
      "cell_type": "code",
      "execution_count": 44,
      "metadata": {
        "tags": [],
        "id": "iQ1-gjJvd4Cy"
      },
      "outputs": [],
      "source": [
        "from functools import partial\n",
        "import jax\n",
        "import jax.numpy as jnp\n",
        "\n",
        "# we use partial to directly jit this function. Jitting the top-most will jit everything inside it as well.\n",
        "@partial(jax.jit, static_argnames='model')\n",
        "def compute_energy_and_gradient(model, parameters, hamiltonian_sparse):\n",
        "    grad_fun = jax.value_and_grad(lambda *args: jnp.real(compute_energy(*args)), argnums=1)\n",
        "    return grad_fun(model, parameters, hamiltonian_sparse)"
      ]
    },
    {
      "cell_type": "code",
      "execution_count": 45,
      "metadata": {
        "tags": [],
        "colab": {
          "base_uri": "https://localhost:8080/"
        },
        "id": "GRmJQZ-7d4Cy",
        "outputId": "73d3dc5a-c4d7-4632-8bf6-c1184f60c0fa"
      },
      "outputs": [
        {
          "output_type": "stream",
          "name": "stdout",
          "text": [
            "{'params': {'lambda': Array([-0.36596298], dtype=float64)}}\n"
          ]
        }
      ],
      "source": [
        "energy, gradient = compute_energy_and_gradient(model, parameters, hamiltonian_jax_sparse)\n",
        "print(gradient)"
      ]
    },
    {
      "cell_type": "markdown",
      "metadata": {
        "id": "Fx73XG5Gd4Cz"
      },
      "source": [
        "notice that we now have the same 'structure' as the parameters"
      ]
    },
    {
      "cell_type": "markdown",
      "metadata": {
        "id": "NmBltmQFd4Cz"
      },
      "source": [
        "### 3.5 Optimise and look for the ground state"
      ]
    },
    {
      "cell_type": "markdown",
      "metadata": {
        "id": "3IB9v41qd4Cz"
      },
      "source": [
        "Now write a little code to initialise the model, find the groundstate and plot the energy along the optimisation.\n",
        "\n",
        "Iterate for 100 iterations, and use `tqdm` to print a beautiful error bar."
      ]
    },
    {
      "cell_type": "code",
      "execution_count": 47,
      "metadata": {
        "tags": [],
        "colab": {
          "base_uri": "https://localhost:8080/"
        },
        "id": "-GyM_Xkqd4Cz",
        "outputId": "4c81125b-a0d0-4a34-c6f6-a36f9097addd"
      },
      "outputs": [
        {
          "output_type": "stream",
          "name": "stderr",
          "text": [
            "100%|██████████| 100/100 [02:48<00:00,  1.69s/it]\n"
          ]
        }
      ],
      "source": [
        "from tqdm import tqdm\n",
        "\n",
        "# initialise\n",
        "model = MF()\n",
        "parameters = model.init(jax.random.key(0), np.ones((hi.size, )))\n",
        "\n",
        "# logging: you can (if you want) use netket loggers to avoid writing a lot of boilerplate...\n",
        "# they accumulate data you throw at them\n",
        "logger = nk.logging.RuntimeLog()\n",
        "\n",
        "for i in tqdm(range(100)):\n",
        "    # compute energy and gradient\n",
        "    energy, gradient = compute_energy_and_gradient(model, parameters, hamiltonian_jax_sparse)\n",
        "\n",
        "    # update parameters. Try using a learning rate of 0.01\n",
        "    # to update the parameters, which are stored as a dictionary (or pytree)\n",
        "    # you can use jax.tree.map as shown above.\n",
        "    parameters = jax.tree.map(lambda x,y:x-0.01*y, parameters, gradient)\n",
        "\n",
        "    # log energy: the logger takes a step argument and a dictionary of variables to be logged\n",
        "    logger(step=i, item={'Energy' : energy})"
      ]
    },
    {
      "cell_type": "code",
      "execution_count": 48,
      "metadata": {
        "tags": [],
        "colab": {
          "base_uri": "https://localhost:8080/",
          "height": 447
        },
        "id": "QVVVuIesd4Cz",
        "outputId": "bf3ad41e-b935-48bf-e007-c4752fc4c17a"
      },
      "outputs": [
        {
          "output_type": "execute_result",
          "data": {
            "text/plain": [
              "[<matplotlib.lines.Line2D at 0x793f48eb4e80>]"
            ]
          },
          "metadata": {},
          "execution_count": 48
        },
        {
          "output_type": "display_data",
          "data": {
            "text/plain": [
              "<Figure size 640x480 with 1 Axes>"
            ],
            "image/png": "[encoded data removed]"
          },
          "metadata": {}
        }
      ],
      "source": [
        "import matplotlib.pyplot as plt\n",
        "\n",
        "# to plot the data, access it!\n",
        "plt.plot(logger.data['Energy']['iters'], logger.data['Energy']['value'])"
      ]
    },
    {
      "cell_type": "markdown",
      "metadata": {
        "tags": [],
        "id": "wKOI4R9md4C0"
      },
      "source": [
        "But actually a better plot would be the relative error in log-scale, because it allows us to better see what is going on at all scales and compare different runs.\n",
        "\n",
        "Try to do it yourself!"
      ]
    },
    {
      "cell_type": "code",
      "execution_count": 49,
      "metadata": {
        "mystnb": {
          "code_prompt_show": "Show solution"
        },
        "tags": [
          "hide-cell"
        ],
        "colab": {
          "base_uri": "https://localhost:8080/",
          "height": 452
        },
        "id": "Ugio8h_xd4C0",
        "outputId": "7beff7c4-0109-4b5d-a7cd-972076b503c6"
      },
      "outputs": [
        {
          "output_type": "execute_result",
          "data": {
            "text/plain": [
              "[<matplotlib.lines.Line2D at 0x793f48e84c70>]"
            ]
          },
          "metadata": {},
          "execution_count": 49
        },
        {
          "output_type": "display_data",
          "data": {
            "text/plain": [
              "<Figure size 640x480 with 1 Axes>"
            ],
            "image/png": "[encoded data removed]"
          },
          "metadata": {}
        }
      ],
      "source": [
        "import matplotlib.pyplot as plt\n",
        "\n",
        "# to plot the data, access it!\n",
        "plt.semilogy(logger.data['Energy']['iters'], np.abs(logger.data['Energy']['value']- e_gs))"
      ]
    },
    {
      "cell_type": "markdown",
      "metadata": {
        "id": "3tfwoykUd4C0"
      },
      "source": [
        "### 3.6 Jastrow Ansatz\n",
        "\n",
        "Now try running the same caluclation as above, but by using a Jastrow ansatz instead of a mean Field ansatz. Write it using flax as before.\n",
        "\n",
        "$$ \\langle \\sigma^{z}_1,\\dots \\sigma^{z}_N| \\Psi_{\\mathrm{jas}} \\rangle = \\exp \\left( \\sum_{ij}\\sigma_i J_{ij}\\sigma_j\\right),$$\n"
      ]
    },
    {
      "cell_type": "code",
      "execution_count": 52,
      "metadata": {
        "tags": [],
        "id": "eljB91xmd4C0"
      },
      "outputs": [],
      "source": [
        "# A Flax model must be a class subclassing `nn.Module`\n",
        "class Jastrow(nn.Module):\n",
        "\n",
        "    # The most compact way to define the model is this.\n",
        "    # The __call__(self, input_x) function should take as\n",
        "    # input a batch of states input_x.shape = (n_samples, N)\n",
        "    # and should return a vector of n_samples log-amplitudes\n",
        "    @nn.compact\n",
        "    def __call__(self, input_x):\n",
        "\n",
        "        n_sites = input_x.shape[-1]\n",
        "\n",
        "        # A tensor of variational parameters is defined by calling\n",
        "        # the method `self.param` where the arguments will be:\n",
        "        # - arbitrary name used to refer to this set of parameters\n",
        "        # - an initializer used to provide the initial values.\n",
        "        # - The shape of the tensor\n",
        "        # - The dtype of the tensor.\n",
        "        # Define the two variational parameters J1 and J2\n",
        "        J = self.param(\n",
        "            \"J\", nn.initializers.normal(), (n_sites,n_sites), float\n",
        "        )\n",
        "        # ensure same data types\n",
        "        dtype = jax.numpy.promote_types(J.dtype, input_x.dtype)\n",
        "        J = J.astype(dtype)\n",
        "        input_x = input_x.astype(dtype)\n",
        "\n",
        "        # note that J_ij is not symmetric. So we symmetrize it by hand\n",
        "        J_symm = J.T + J\n",
        "\n",
        "        # TODO compute the result\n",
        "        res = jnp.einsum(\"...i,ij,...j\", input_x, J_symm, input_x) # use vectorised operations. Make sure they work with arbitrary shapes of dimensions.\n",
        "        # look into jnp.einsum.\n",
        "\n",
        "        return res"
      ]
    },
    {
      "cell_type": "code",
      "execution_count": 53,
      "metadata": {
        "tags": [],
        "id": "oWU0b3a6d4C0"
      },
      "outputs": [],
      "source": [
        "# if the code above is correct, this should run\n",
        "model_jastrow = Jastrow()\n",
        "\n",
        "one_sample = hi.random_state(jax.random.key(0))\n",
        "batch_samples = hi.random_state(jax.random.key(0), (5,))\n",
        "multibatch_samples = hi.random_state(jax.random.key(0), (5,4,))\n",
        "\n",
        "parameters_jastrow = model_jastrow.init(jax.random.key(0), one_sample)\n",
        "assert parameters_jastrow['params']['J'].shape == (hi.size, hi.size)\n",
        "assert model_jastrow.apply(parameters_jastrow, one_sample).shape == ()\n",
        "assert model_jastrow.apply(parameters_jastrow, batch_samples).shape == batch_samples.shape[:-1]\n",
        "assert model_jastrow.apply(parameters_jastrow, multibatch_samples).shape == multibatch_samples.shape[:-1]"
      ]
    },
    {
      "cell_type": "markdown",
      "metadata": {
        "id": "Y9XN7Iqqd4C0"
      },
      "source": [
        "**And now rerun the same analysis as before but with this ansatz*"
      ]
    },
    {
      "cell_type": "markdown",
      "metadata": {
        "id": "7gAw9VI5d4C1"
      },
      "source": [
        "## 4. Monte Carlo complications"
      ]
    },
    {
      "cell_type": "markdown",
      "metadata": {
        "id": "JEWT9E9nd4C1"
      },
      "source": [
        "Until now we did everything by summing over the whole hilbert space, but for larger problems that won't be possible. So let's look into MC sampling."
      ]
    },
    {
      "cell_type": "markdown",
      "metadata": {
        "tags": [],
        "id": "ER2UL-dpd4C1"
      },
      "source": [
        "### 4.1 Generating samples\n",
        "\n",
        "For this tutorial, we won't look into the nitty gritty details of sampling, but instead rely on a set of samplers already written for us. Let's consider a simple MCMC sampler that propose new states by flipping individual spins"
      ]
    },
    {
      "cell_type": "code",
      "execution_count": 54,
      "metadata": {
        "tags": [],
        "id": "DeMCscdod4C1"
      },
      "outputs": [],
      "source": [
        "sampler = nk.sampler.MetropolisSampler(\n",
        "                        hi,                            # the hilbert space to be sampled\n",
        "                        nk.sampler.rules.LocalRule(),  # the transition rule\n",
        "                        n_chains = 20)"
      ]
    },
    {
      "cell_type": "markdown",
      "metadata": {
        "id": "O8M3AaCDd4C1"
      },
      "source": [
        "And the samplers are used as follows:\n",
        " - First you initialise the 'sampler state' that contains the mutable state and rng of the sampler\n",
        " - Every time you change the parameters you reset it\n",
        " - to generate new samples you call .sample_chain."
      ]
    },
    {
      "cell_type": "code",
      "execution_count": 55,
      "metadata": {
        "tags": [],
        "colab": {
          "base_uri": "https://localhost:8080/"
        },
        "id": "v-Ukx2qPd4C1",
        "outputId": "0ad8264e-a088-4814-869b-0a74b095bbe8"
      },
      "outputs": [
        {
          "output_type": "stream",
          "name": "stdout",
          "text": [
            "(20, 100, 16)\n"
          ]
        }
      ],
      "source": [
        "sampler_state = sampler.init_state(model, parameters, seed=1)\n",
        "sampler_state = sampler.reset(model, parameters, sampler_state)\n",
        "samples, sampler_state = sampler.sample(model, parameters, state=sampler_state, chain_length=100)\n",
        "\n",
        "print(samples.shape)\n",
        "# those are the three dimensions: 20 chains, 100 length per chain and 16 spins per sample.\n",
        "# Note: chains are sometimes refereed to as walkers\n",
        "# Note: the chain length is actually the length of the returned samples. In reality, the sampler generates\n",
        "# chains of length `chain_length * sampler.sweep_size` and returns you 1 sample every   sampler.sweep_size"
      ]
    },
    {
      "cell_type": "markdown",
      "metadata": {
        "id": "ohWf07sCd4C2"
      },
      "source": [
        "To generate more samples, simply call `sampler.sample` again or with a different `chain_length`.\n",
        "If you change the parameters, you should call `sampler.reset`."
      ]
    },
    {
      "cell_type": "markdown",
      "metadata": {
        "tags": [],
        "id": "ajaU4kW6d4C2"
      },
      "source": [
        "### 4.2 Computing the Energy"
      ]
    },
    {
      "cell_type": "markdown",
      "metadata": {
        "id": "Ba1B7y28d4C2"
      },
      "source": [
        "We want to compute the energy as an expectation value, therefore as\n",
        "\n",
        "$$\n",
        "   E = \\sum_i^{N_s} \\frac{E_\\text{loc}(\\sigma_i)}{N_s}\n",
        "$$\n",
        "\n",
        "where $\\sigma_i$ are the samples and Eloc is\n",
        "\n",
        "$$\n",
        "  E_\\text{loc}(\\sigma) = \\frac{\\langle \\sigma |H|\\psi\\rangle}{\\langle \\sigma |\\psi\\rangle} = \\sum_\\eta \\langle\\sigma|H|\\eta\\rangle \\frac{\\psi(\\eta)}{\\psi(\\sigma)}\n",
        "$$\n",
        "\n",
        "but the sum in principle is over exponentially many entries. Instead we can do the following\n",
        "\n",
        "$$\n",
        "  E_\\text{loc}(\\sigma) = \\sum_\\eta \\langle\\sigma|H|\\eta\\rangle \\frac{\\psi(\\eta)}{\\psi(\\sigma)} = \\sum_{\\eta\\,\\, \\text{s.t.} \\,\\,\\langle\\sigma|H|\\eta\\rangle \\neq 0} \\langle\\sigma|H|\\eta\\rangle \\frac{\\psi(\\eta)}{\\psi(\\sigma)}\n",
        "$$\n"
      ]
    },
    {
      "cell_type": "markdown",
      "metadata": {
        "id": "XQxhGdTBd4C2"
      },
      "source": [
        "Those entries can be extracted through our 'special' operators."
      ]
    },
    {
      "cell_type": "code",
      "execution_count": 56,
      "metadata": {
        "tags": [],
        "id": "KvsdWCJgd4C2"
      },
      "outputs": [],
      "source": [
        "# given sigma\n",
        "sigma = hi.random_state(jax.random.key(1))\n",
        "\n",
        "eta, H_sigmaeta = hamiltonian_jax.get_conn_padded(sigma)"
      ]
    },
    {
      "cell_type": "code",
      "execution_count": 57,
      "metadata": {
        "tags": [],
        "colab": {
          "base_uri": "https://localhost:8080/"
        },
        "id": "v_Q06TnHd4C2",
        "outputId": "8dca7e26-f26e-4390-d8f1-a46a28a0e65c"
      },
      "outputs": [
        {
          "output_type": "stream",
          "name": "stdout",
          "text": [
            "(16,)\n",
            "(17, 16)\n",
            "(17,)\n"
          ]
        }
      ],
      "source": [
        "# so for 1 sample sigma\n",
        "print(sigma.shape)\n",
        "\n",
        "# we have 17 connected samples eta, each composed by 16 spins\n",
        "print(eta.shape)\n",
        "# and 17 matrix elements\n",
        "print(H_sigmaeta.shape)"
      ]
    },
    {
      "cell_type": "markdown",
      "metadata": {
        "id": "qzWA_wYLd4C3"
      },
      "source": [
        "This also applies for batches of configurations"
      ]
    },
    {
      "cell_type": "code",
      "execution_count": 58,
      "metadata": {
        "tags": [],
        "colab": {
          "base_uri": "https://localhost:8080/"
        },
        "id": "fBK4qgwEd4C3",
        "outputId": "787892ac-cb67-487f-f232-c61affa951c0"
      },
      "outputs": [
        {
          "output_type": "stream",
          "name": "stdout",
          "text": [
            "(4, 5, 16)\n",
            "(4, 5, 17, 16)\n",
            "(4, 5, 17)\n"
          ]
        }
      ],
      "source": [
        "# given sigma\n",
        "sigma = hi.random_state(jax.random.key(1), (4,5))\n",
        "\n",
        "eta, H_sigmaeta = hamiltonian_jax.get_conn_padded(sigma)\n",
        "\n",
        "# so for each of the (4,5) samples sigma each of 16 spins\n",
        "print(sigma.shape)\n",
        "\n",
        "# we have 17 connected samples eta, each composed by 16 spins, in a tensor of shape (4,5,17,16)\n",
        "print(eta.shape)\n",
        "# and 17 matrix elements\n",
        "print(H_sigmaeta.shape)"
      ]
    },
    {
      "cell_type": "markdown",
      "metadata": {
        "tags": [],
        "id": "NVz2v6x8d4C3"
      },
      "source": [
        "_TODO_: Now use this `get_conn_padded` to write a function that computes the local energy given a model and a set parameters\n",
        "\n",
        "$$\n",
        "  E_\\text{loc}(\\sigma) = \\sum_\\eta \\langle\\sigma|H|\\eta\\rangle \\frac{\\psi(\\eta)}{\\psi(\\sigma)} = \\sum_{\\eta\\,\\, \\text{s.t.} \\,\\,\\langle\\sigma|H|\\eta\\rangle \\neq 0} \\langle\\sigma|H|\\eta\\rangle \\exp[\\log\\psi(\\eta) - \\log\\psi(\\sigma)]\n",
        "$$\n"
      ]
    },
    {
      "cell_type": "code",
      "execution_count": 59,
      "metadata": {
        "id": "sfs68HI0d4C3"
      },
      "outputs": [],
      "source": [
        "def compute_local_energies(model, parameters, hamiltonian_jax, sigma):\n",
        "    eta, H_sigmaeta = hamiltonian_jax.get_conn_padded(sigma)\n",
        "\n",
        "    logpsi_sigma = model.apply(parameters, sigma)\n",
        "    logpsi_eta = model.apply(parameters, eta)\n",
        "    logpsi_sigma = jnp.expand_dims(logpsi_sigma, -1)\n",
        "    # to match their dimensions and broadcast, jnp.expand_dims(logpsi_sigma, -1) might help\n",
        "    res = jnp.sum(H_sigmaeta * jnp.exp(logpsi_eta - logpsi_sigma), axis=-1)\n",
        "\n",
        "    return res"
      ]
    },
    {
      "cell_type": "code",
      "execution_count": 60,
      "metadata": {
        "tags": [],
        "id": "SBip3N6zd4C4"
      },
      "outputs": [],
      "source": [
        "# if you wrote it correctly, you should get to work the following tests\n",
        "assert compute_local_energies(model, parameters, hamiltonian_jax, samples[0]).shape == samples.shape[1:-1]\n",
        "assert compute_local_energies(model, parameters, hamiltonian_jax, samples).shape == samples.shape[:-1]"
      ]
    },
    {
      "cell_type": "code",
      "execution_count": 61,
      "metadata": {
        "tags": [],
        "colab": {
          "base_uri": "https://localhost:8080/"
        },
        "id": "MQzzEzVId4C4",
        "outputId": "b04d2311-a084-4ac3-f782-be58f7666f86"
      },
      "outputs": [
        {
          "output_type": "execute_result",
          "data": {
            "text/plain": [
              "Array([[-12.-1.95751415e-10j,  -8.-2.00000000e+00j,  -4.+2.00000000e+00j,\n",
              "        -12.-1.95751859e-10j,  -4.-3.00000000e+00j],\n",
              "       [ -8.-1.95750083e-10j,  -4.-1.00000000e+00j,  -8.-1.95752303e-10j,\n",
              "         -8.-1.95749639e-10j,  -4.-3.00000000e+00j],\n",
              "       [ -8.-3.00000000e+00j,  -8.-1.00000000e+00j,  -4.-1.95750971e-10j,\n",
              "        -12.-1.00000000e+00j, -16.+1.00000000e+00j],\n",
              "       [ -8.-1.95750971e-10j, -12.-2.00000000e+00j, -16.-1.00000000e+00j,\n",
              "         -8.+2.00000000e+00j,  -4.-3.00000000e+00j]], dtype=complex128)"
            ]
          },
          "metadata": {},
          "execution_count": 61
        }
      ],
      "source": [
        "# and if you did not do crazy things, this should also jit compile\n",
        "jax.jit(compute_local_energies, static_argnames='model')(model, parameters, hamiltonian_jax, sigma)"
      ]
    },
    {
      "cell_type": "code",
      "execution_count": null,
      "metadata": {
        "id": "OaoKmj_Td4C4"
      },
      "outputs": [],
      "source": []
    },
    {
      "cell_type": "markdown",
      "metadata": {
        "tags": [],
        "id": "wuaNh8PAd4C4"
      },
      "source": [
        "### 4.3 Sampling the energy\n",
        "\n",
        "So now write a function that computes the energy and estimates its error. I remind you that the error is given by\n",
        "\n",
        "$$\n",
        "    \\epsilon_E = \\sqrt{\\frac{\\mathbb{V}\\text{ar}(E_\\text{loc})}{N_\\text{samples}}}\n",
        "$$"
      ]
    },
    {
      "cell_type": "code",
      "execution_count": 62,
      "metadata": {
        "tags": [],
        "id": "dDwxXMr-d4C4"
      },
      "outputs": [],
      "source": [
        "@partial(jax.jit, static_argnames='model')\n",
        "def estimate_energy(model, parameters, hamiltonian_jax, sigma):\n",
        "    E_loc = compute_local_energies(model, parameters, hamiltonian_jax, sigma)\n",
        "\n",
        "    E_average = jnp.mean(E_loc)\n",
        "    E_variance = jnp.var(E_loc)\n",
        "    E_error = jnp.sqrt(E_variance/sigma.shape[0])\n",
        "\n",
        "    # we return a netket Stats object that wraps all statistical information related to this mean value.\n",
        "    return nk.stats.Stats(mean=E_average, error_of_mean=E_error, variance=E_variance)"
      ]
    },
    {
      "cell_type": "code",
      "execution_count": 63,
      "metadata": {
        "tags": [],
        "colab": {
          "base_uri": "https://localhost:8080/"
        },
        "id": "iWzWcWPvd4C4",
        "outputId": "c082aa99-723d-4645-efbe-18ce01ae45dd"
      },
      "outputs": [
        {
          "output_type": "stream",
          "name": "stdout",
          "text": [
            "-8.13+0.04j ± 0.13 [σ²=33.85]\n"
          ]
        }
      ],
      "source": [
        "# this should run correctly\n",
        "isinstance(estimate_energy(model, parameters, hamiltonian_jax, samples), nk.stats.Stats)\n",
        "print(estimate_energy(model, parameters, hamiltonian_jax, samples))"
      ]
    },
    {
      "cell_type": "markdown",
      "metadata": {
        "id": "5dv46bbid4C5"
      },
      "source": [
        "we can also check that by increasing the number of samples, we get a good prediction within the standard error of the 'full summation' calculations"
      ]
    },
    {
      "cell_type": "code",
      "execution_count": 64,
      "metadata": {
        "tags": [],
        "colab": {
          "base_uri": "https://localhost:8080/"
        },
        "id": "nbkaNMU2d4C5",
        "outputId": "7ab03d79-79c3-4ecf-9daf-013dff041b93"
      },
      "outputs": [
        {
          "output_type": "stream",
          "name": "stdout",
          "text": [
            "exact:  (-7.9999999999998+6.966039615800834e-14j)\n",
            "Estimate:  -8.002+0.004j ± 0.019 [σ²=36.126]\n"
          ]
        }
      ],
      "source": [
        "samples_many, sampler_state = sampler.sample(model, parameters, state=sampler_state, chain_length=5000)\n",
        "\n",
        "print(\"exact: \", compute_energy(model, parameters, hamiltonian_jax))\n",
        "print(\"Estimate: \", estimate_energy(model, parameters, hamiltonian_jax, samples_many))\n"
      ]
    },
    {
      "cell_type": "code",
      "execution_count": null,
      "metadata": {
        "id": "GXm0-a6md4C5"
      },
      "outputs": [],
      "source": []
    },
    {
      "cell_type": "markdown",
      "metadata": {
        "tags": [],
        "id": "M6IT4LKJd4C5"
      },
      "source": [
        "### 4.4 Sampling the gradient of the energy\n",
        "\n",
        "We have seen during the class that the gradient of the energy can be estimated according to the formula\n",
        "\n",
        "$$\n",
        "    \\nabla_k E = \\mathbb{E}_{\\sigma\\sim|\\psi(\\sigma)|^2} \\left[ (\\nabla_k \\log\\psi(\\sigma))^\\star \\left( E_\\text{loc}(\\sigma) - \\langle E \\rangle\\right)\\right] \\approx \\frac{1}{N_s}\\sum_i^{N_s} (\\nabla_k \\log\\psi(\\sigma_i))^\\star \\left( E_\\text{loc}(\\sigma_i) - \\langle E \\rangle\\right)\n",
        "$$\n",
        "\n",
        "Where $\\langle E \\rangle$ can be estimated as $\\langle E \\rangle \\approx \\frac{1}{N_s}\\sum_i E_\\text{loc}(\\sigma_i)$\n",
        "\n",
        "Now, for a second, think of $\\nabla_k \\log\\psi(\\sigma_i)$ as the _JACOBIAN_ of the function $\\log\\psi_\\sigma : \\mathbb{R}^{N_\\text{pars}} \\rightarrow \\mathbb{R}^{N_\\text{samples}}$, and think for a moment of $E_\\text{loc}(\\sigma_i)$ as a vector of size $\\mathbb{R}^{N_\\text{samples}}$"
      ]
    },
    {
      "cell_type": "code",
      "execution_count": 65,
      "metadata": {
        "tags": [],
        "colab": {
          "base_uri": "https://localhost:8080/"
        },
        "id": "-1Q4B7Jfd4C5",
        "outputId": "22af0433-f8d5-46d2-8d22-bbf48faa722e"
      },
      "outputs": [
        {
          "output_type": "stream",
          "name": "stdout",
          "text": [
            "N_samples is equal to:  (2000,)\n"
          ]
        }
      ],
      "source": [
        "# reshape samples in a vector of size (N_pars x N)\n",
        "sigma_vector = samples.reshape(-1, hi.size)\n",
        "\n",
        "# lets see that function logpsi_sigma\n",
        "logpsi_sigma_fun = lambda pars : model_jastrow.apply(parameters_jastrow, sigma_vector)\n",
        "\n",
        "# input to the function are only the parameters, output is a vector of size n samples\n",
        "print(\"N_samples is equal to: \", logpsi_sigma_fun(parameters_jastrow).shape)"
      ]
    },
    {
      "cell_type": "markdown",
      "metadata": {
        "id": "lgBJjYnBd4C5"
      },
      "source": [
        "So we can compute the jacobian of this function!"
      ]
    },
    {
      "cell_type": "code",
      "execution_count": 66,
      "metadata": {
        "tags": [],
        "colab": {
          "base_uri": "https://localhost:8080/"
        },
        "id": "bLyV7AKld4C5",
        "outputId": "3f3c6f46-67dc-48db-c1e7-0930fea7ef27"
      },
      "outputs": [
        {
          "output_type": "stream",
          "name": "stdout",
          "text": [
            "The parameters of jastrow have shape:\n",
            " {'params': {'J': (16, 16)}}\n",
            "The jacobian of jastrow have shape:\n",
            " {'params': {'J': (2000, 16, 16)}}\n"
          ]
        }
      ],
      "source": [
        "jacobian = jax.jacrev(logpsi_sigma_fun)(parameters_jastrow)\n",
        "\n",
        "#\n",
        "print(\"The parameters of jastrow have shape:\\n\" , jax.tree.map(lambda x: x.shape, parameters_jastrow))\n",
        "\n",
        "print(\"The jacobian of jastrow have shape:\\n\" , jax.tree.map(lambda x: x.shape, jacobian))"
      ]
    },
    {
      "cell_type": "markdown",
      "metadata": {
        "id": "h--2OUMXd4C6"
      },
      "source": [
        "Now implement a function that computes the jacobian-vector product in order to estimate the gradient of the energy. You can either do this vector-Jacobian-transpose product manually by using `jax.jacrev` and `jax.tree.map`, but you can also have a look at `jax.vjp` which does it automatically for you."
      ]
    },
    {
      "cell_type": "code",
      "execution_count": 69,
      "metadata": {
        "id": "75A7rsbOd4C6"
      },
      "outputs": [],
      "source": [
        "## TODO\n",
        "\n",
        "# @partial(jax.jit, static_argnames='model')\n",
        "def estimate_energy_and_gradient(model, parameters, hamiltonian_jax, sigma):\n",
        "    # reshape the samples to a vector of samples with no extra batch dimensions\n",
        "    sigma = sigma.reshape(-1, sigma.shape[-1])\n",
        "\n",
        "    E_loc = compute_local_energies(model, parameters, hamiltonian_jax, sigma)\n",
        "\n",
        "    # comptue the gradient ...\n",
        "    # first define the function to be differentiated\n",
        "    logpsi_sigma_fun = lambda pars : model_jastrow.apply(parameters_jastrow, sigma_vector)\n",
        "\n",
        "    # use jacrev with jax.tree.map, or even better, jax.vjp\n",
        "\n",
        "\n",
        "\n",
        "    # compute the energy as well\n",
        "    E_average = jnp.mean(E_loc)\n",
        "    E_variance = jnp.var(E_loc)\n",
        "    E_error = jnp.sqrt(E_variance/sigma.shape[0])\n",
        "    E = nk.stats.Stats(mean=E_average, error_of_mean=E_error, variance=E_variance)\n",
        "\n",
        "    _, vjpfun = jax.vjp(logpsi_sigma_fun, parameters)\n",
        "    E_grad = vjpfun((E_loc - E_average)/E_loc.size)\n",
        "\n",
        "    return E, E_grad"
      ]
    },
    {
      "cell_type": "markdown",
      "metadata": {
        "id": "n1MmaNz0d4C6"
      },
      "source": [
        "If you are a fast person, Try to implement this function both usin `jax.jacrev` and `jax.vjp` and try to see which one is faster. You might need to benchmark it for different Neural Networks..."
      ]
    },
    {
      "cell_type": "code",
      "execution_count": null,
      "metadata": {
        "id": "tYEgjIkjd4C6"
      },
      "outputs": [],
      "source": []
    },
    {
      "cell_type": "markdown",
      "metadata": {
        "tags": [],
        "id": "S0GXGZlEd4C6"
      },
      "source": [
        "### 4.5: Let's get down to business\n",
        "\n",
        "Now let's wrap everything up and let's use this code to compute the ground state with an SGD optimisation using the mean field and jastrow ansatz"
      ]
    },
    {
      "cell_type": "code",
      "execution_count": 70,
      "metadata": {
        "tags": [],
        "colab": {
          "base_uri": "https://localhost:8080/",
          "height": 391
        },
        "id": "qDicUAQHd4C6",
        "outputId": "954b5686-9f5d-4064-cb79-4956b26c9a66"
      },
      "outputs": [
        {
          "output_type": "stream",
          "name": "stderr",
          "text": [
            "  0%|          | 0/300 [00:00<?, ?it/s]\n"
          ]
        },
        {
          "output_type": "error",
          "ename": "ValueError",
          "evalue": "unexpected JAX type (e.g. shape/dtype) for argument to vjp function: got complex128[1000], but expected float64[2000] because the corresponding output of the function <lambda> had JAX type float64[2000]",
          "traceback": [
            "\u001b[0;31m---------------------------------------------------------------------------\u001b[0m",
            "\u001b[0;31mValueError\u001b[0m                                Traceback (most recent call last)",
            "\u001b[0;32m<ipython-input-70-0c0695cc0f5e>\u001b[0m in \u001b[0;36m<cell line: 20>\u001b[0;34m()\u001b[0m\n\u001b[1;32m     24\u001b[0m \u001b[0;34m\u001b[0m\u001b[0m\n\u001b[1;32m     25\u001b[0m     \u001b[0;31m# compute energy and gradient\u001b[0m\u001b[0;34m\u001b[0m\u001b[0;34m\u001b[0m\u001b[0m\n\u001b[0;32m---> 26\u001b[0;31m     \u001b[0mE\u001b[0m\u001b[0;34m,\u001b[0m \u001b[0mE_grad\u001b[0m \u001b[0;34m=\u001b[0m \u001b[0mestimate_energy_and_gradient\u001b[0m\u001b[0;34m(\u001b[0m\u001b[0mmodel\u001b[0m\u001b[0;34m,\u001b[0m \u001b[0mparameters\u001b[0m\u001b[0;34m,\u001b[0m \u001b[0mhamiltonian_jax\u001b[0m\u001b[0;34m,\u001b[0m \u001b[0msamples\u001b[0m\u001b[0;34m)\u001b[0m\u001b[0;34m\u001b[0m\u001b[0;34m\u001b[0m\u001b[0m\n\u001b[0m\u001b[1;32m     27\u001b[0m \u001b[0;34m\u001b[0m\u001b[0m\n\u001b[1;32m     28\u001b[0m     \u001b[0;31m# update parameters. Try using a learning rate of 0.01\u001b[0m\u001b[0;34m\u001b[0m\u001b[0;34m\u001b[0m\u001b[0m\n",
            "\u001b[0;32m<ipython-input-69-8055eb1c7419>\u001b[0m in \u001b[0;36mestimate_energy_and_gradient\u001b[0;34m(model, parameters, hamiltonian_jax, sigma)\u001b[0m\n\u001b[1;32m     23\u001b[0m \u001b[0;34m\u001b[0m\u001b[0m\n\u001b[1;32m     24\u001b[0m     \u001b[0m_\u001b[0m\u001b[0;34m,\u001b[0m \u001b[0mvjpfun\u001b[0m \u001b[0;34m=\u001b[0m \u001b[0mjax\u001b[0m\u001b[0;34m.\u001b[0m\u001b[0mvjp\u001b[0m\u001b[0;34m(\u001b[0m\u001b[0mlogpsi_sigma_fun\u001b[0m\u001b[0;34m,\u001b[0m \u001b[0mparameters\u001b[0m\u001b[0;34m)\u001b[0m\u001b[0;34m\u001b[0m\u001b[0;34m\u001b[0m\u001b[0m\n\u001b[0;32m---> 25\u001b[0;31m     \u001b[0mE_grad\u001b[0m \u001b[0;34m=\u001b[0m \u001b[0mvjpfun\u001b[0m\u001b[0;34m(\u001b[0m\u001b[0;34m(\u001b[0m\u001b[0mE_loc\u001b[0m \u001b[0;34m-\u001b[0m \u001b[0mE_average\u001b[0m\u001b[0;34m)\u001b[0m\u001b[0;34m/\u001b[0m\u001b[0mE_loc\u001b[0m\u001b[0;34m.\u001b[0m\u001b[0msize\u001b[0m\u001b[0;34m)\u001b[0m\u001b[0;34m\u001b[0m\u001b[0;34m\u001b[0m\u001b[0m\n\u001b[0m\u001b[1;32m     26\u001b[0m \u001b[0;34m\u001b[0m\u001b[0m\n\u001b[1;32m     27\u001b[0m     \u001b[0;32mreturn\u001b[0m \u001b[0mE\u001b[0m\u001b[0;34m,\u001b[0m \u001b[0mE_grad\u001b[0m\u001b[0;34m\u001b[0m\u001b[0;34m\u001b[0m\u001b[0m\n",
            "\u001b[0;32m/usr/local/lib/python3.10/dist-packages/jax/_src/tree_util.py\u001b[0m in \u001b[0;36m__call__\u001b[0;34m(self, *args, **kw)\u001b[0m\n\u001b[1;32m    475\u001b[0m \u001b[0;34m\u001b[0m\u001b[0m\n\u001b[1;32m    476\u001b[0m   \u001b[0;32mdef\u001b[0m \u001b[0m__call__\u001b[0m\u001b[0;34m(\u001b[0m\u001b[0mself\u001b[0m\u001b[0;34m,\u001b[0m \u001b[0;34m*\u001b[0m\u001b[0margs\u001b[0m\u001b[0;34m,\u001b[0m \u001b[0;34m**\u001b[0m\u001b[0mkw\u001b[0m\u001b[0;34m)\u001b[0m\u001b[0;34m:\u001b[0m\u001b[0;34m\u001b[0m\u001b[0;34m\u001b[0m\u001b[0m\n\u001b[0;32m--> 477\u001b[0;31m     \u001b[0;32mreturn\u001b[0m \u001b[0mself\u001b[0m\u001b[0;34m.\u001b[0m\u001b[0mfun\u001b[0m\u001b[0;34m(\u001b[0m\u001b[0;34m*\u001b[0m\u001b[0margs\u001b[0m\u001b[0;34m,\u001b[0m \u001b[0;34m**\u001b[0m\u001b[0mkw\u001b[0m\u001b[0;34m)\u001b[0m\u001b[0;34m\u001b[0m\u001b[0;34m\u001b[0m\u001b[0m\n\u001b[0m\u001b[1;32m    478\u001b[0m \u001b[0;34m\u001b[0m\u001b[0m\n\u001b[1;32m    479\u001b[0m   \u001b[0;32mdef\u001b[0m \u001b[0m__hash__\u001b[0m\u001b[0;34m(\u001b[0m\u001b[0mself\u001b[0m\u001b[0;34m)\u001b[0m\u001b[0;34m:\u001b[0m\u001b[0;34m\u001b[0m\u001b[0;34m\u001b[0m\u001b[0m\n",
            "\u001b[0;32m/usr/local/lib/python3.10/dist-packages/jax/_src/api.py\u001b[0m in \u001b[0;36m_vjp_pullback_wrapper\u001b[0;34m(name, out_primal_avals, io_tree, fun, *py_args_)\u001b[0m\n\u001b[1;32m   2114\u001b[0m     if (not core.typecompat(ct_aval, ct_aval_expected) and\n\u001b[1;32m   2115\u001b[0m         not _temporary_dtype_exception(ct_aval, ct_aval_expected)):\n\u001b[0;32m-> 2116\u001b[0;31m       raise ValueError(\n\u001b[0m\u001b[1;32m   2117\u001b[0m           \u001b[0;34m\"unexpected JAX type (e.g. shape/dtype) for argument to vjp function: \"\u001b[0m\u001b[0;34m\u001b[0m\u001b[0;34m\u001b[0m\u001b[0m\n\u001b[1;32m   2118\u001b[0m           \u001b[0;34mf\"got {ct_aval.str_short()}, but expected {ct_aval_expected.str_short()} \"\u001b[0m\u001b[0;34m\u001b[0m\u001b[0;34m\u001b[0m\u001b[0m\n",
            "\u001b[0;31mValueError\u001b[0m: unexpected JAX type (e.g. shape/dtype) for argument to vjp function: got complex128[1000], but expected float64[2000] because the corresponding output of the function <lambda> had JAX type float64[2000]"
          ]
        }
      ],
      "source": [
        "from tqdm import tqdm\n",
        "\n",
        "# settings\n",
        "model = MF()\n",
        "sampler = nk.sampler.MetropolisSampler(\n",
        "                        hi,                            # the hilbert space to be sampled\n",
        "                        nk.sampler.rules.LocalRule(),  # the transition rule\n",
        "                        n_chains = 20)\n",
        "n_iters = 300\n",
        "chain_length = 1000//sampler.n_chains\n",
        "\n",
        "# initialise\n",
        "parameters = model.init(jax.random.key(0), np.ones((hi.size, )))\n",
        "sampler_state = sampler.init_state(model, parameters, seed=1)\n",
        "\n",
        "# logging: you can (if you want) use netket loggers to avoid writing a lot of boilerplate...\n",
        "# they accumulate data you throw at them\n",
        "logger = nk.logging.RuntimeLog()\n",
        "\n",
        "for i in tqdm(range(n_iters)):\n",
        "    # sample\n",
        "    sampler_state = sampler.reset(model, parameters, state=sampler_state)\n",
        "    samples, sampler_state = sampler.sample(model, parameters, state=sampler_state, chain_length=chain_length)\n",
        "\n",
        "    # compute energy and gradient\n",
        "    E, E_grad = estimate_energy_and_gradient(model, parameters, hamiltonian_jax, samples)\n",
        "\n",
        "    # update parameters. Try using a learning rate of 0.01\n",
        "    # ... implement it!\n",
        "    parameters = jax.tree.map(lambda x,y:x-0.01*y, parameters, E_grad)\n",
        "\n",
        "    # log energy: the logger takes a step argument and a dictionary of variables to be logged\n",
        "    logger(step=i, item={'Energy' : E})"
      ]
    },
    {
      "cell_type": "code",
      "execution_count": null,
      "metadata": {
        "id": "7WXJJSqud4C7",
        "outputId": "c730ca44-25ce-4936-d1ce-90312cbead77"
      },
      "outputs": [
        {
          "data": {
            "text/plain": [
              "[<matplotlib.lines.Line2D at 0x2ca1fe8d0>]"
            ]
          },
          "execution_count": 132,
          "metadata": {},
          "output_type": "execute_result"
        },
        {
          "data": {
            "image/png": "[encoded data removed]",
            "text/plain": [
              "<Figure size 640x480 with 1 Axes>"
            ]
          },
          "metadata": {},
          "output_type": "display_data"
        }
      ],
      "source": [
        "# to plot the data, access it!\n",
        "plt.plot(logger.data['Energy']['iters'], logger.data['Energy']['Mean'])"
      ]
    },
    {
      "cell_type": "markdown",
      "metadata": {
        "id": "Q8F06OU-d4C7"
      },
      "source": [
        "## 5 : Future things to try\n",
        "\n",
        "### 5.1 : Try to implement a FeedForward network\n",
        "\n",
        "Try to use flax to implement a simple Feed Forward Neural Network with 1 or 2 layers and becnhmark it. Look at the documentation and try using some `nn.Dense` layers together with some activation functions of your choice. Try going for something like a 2 layers Dense with `relu` activation function and a final pooling operation."
      ]
    },
    {
      "cell_type": "markdown",
      "metadata": {
        "id": "Y0uq9-ZNd4C7"
      },
      "source": [
        "### 5.2: Try better optimisers\n",
        "\n",
        "There is a library, [optax](https://optax.readthedocs.io/en/latest/), that implements several optimisers.\n",
        "Try to use adam or other optimisers.\n",
        "The way you use them is as follows:"
      ]
    },
    {
      "cell_type": "code",
      "execution_count": 71,
      "metadata": {
        "tags": [],
        "colab": {
          "base_uri": "https://localhost:8080/",
          "height": 384
        },
        "id": "sIBi7d9xd4C7",
        "outputId": "1bd27313-a063-4e0c-eb7d-6ba93910d2b8"
      },
      "outputs": [
        {
          "output_type": "error",
          "ename": "InvalidRngError",
          "evalue": "RNGs should be of shape (2,) or PRNGKey in Module MF, but rngs are: Ellipsis (https://flax.readthedocs.io/en/latest/api_reference/flax.errors.html#flax.errors.InvalidRngError)",
          "traceback": [
            "\u001b[0;31m---------------------------------------------------------------------------\u001b[0m",
            "\u001b[0;31mInvalidRngError\u001b[0m                           Traceback (most recent call last)",
            "\u001b[0;32m<ipython-input-71-46718197be50>\u001b[0m in \u001b[0;36m<cell line: 7>\u001b[0;34m()\u001b[0m\n\u001b[1;32m      5\u001b[0m \u001b[0;34m\u001b[0m\u001b[0m\n\u001b[1;32m      6\u001b[0m \u001b[0;31m# initialise\u001b[0m\u001b[0;34m\u001b[0m\u001b[0;34m\u001b[0m\u001b[0m\n\u001b[0;32m----> 7\u001b[0;31m \u001b[0mparameters\u001b[0m \u001b[0;34m=\u001b[0m \u001b[0mmodel\u001b[0m\u001b[0;34m.\u001b[0m\u001b[0minit\u001b[0m\u001b[0;34m(\u001b[0m\u001b[0;34m...\u001b[0m\u001b[0;34m)\u001b[0m\u001b[0;34m\u001b[0m\u001b[0;34m\u001b[0m\u001b[0m\n\u001b[0m\u001b[1;32m      8\u001b[0m \u001b[0moptimizer_state\u001b[0m \u001b[0;34m=\u001b[0m \u001b[0moptimizer\u001b[0m\u001b[0;34m.\u001b[0m\u001b[0minit\u001b[0m\u001b[0;34m(\u001b[0m\u001b[0mparameters\u001b[0m\u001b[0;34m)\u001b[0m\u001b[0;34m\u001b[0m\u001b[0;34m\u001b[0m\u001b[0m\n\u001b[1;32m      9\u001b[0m \u001b[0;34m\u001b[0m\u001b[0m\n",
            "    \u001b[0;31m[... skipping hidden 3 frame]\u001b[0m\n",
            "\u001b[0;32m/usr/local/lib/python3.10/dist-packages/flax/linen/module.py\u001b[0m in \u001b[0;36minit_with_output\u001b[0;34m(self, rngs, method, mutable, capture_intermediates, *args, **kwargs)\u001b[0m\n\u001b[1;32m   2296\u001b[0m     \u001b[0;32mif\u001b[0m \u001b[0;32mnot\u001b[0m \u001b[0misinstance\u001b[0m\u001b[0;34m(\u001b[0m\u001b[0mrngs\u001b[0m\u001b[0;34m,\u001b[0m \u001b[0mdict\u001b[0m\u001b[0;34m)\u001b[0m\u001b[0;34m:\u001b[0m\u001b[0;34m\u001b[0m\u001b[0;34m\u001b[0m\u001b[0m\n\u001b[1;32m   2297\u001b[0m       \u001b[0;32mif\u001b[0m \u001b[0;32mnot\u001b[0m \u001b[0mcore\u001b[0m\u001b[0;34m.\u001b[0m\u001b[0mscope\u001b[0m\u001b[0;34m.\u001b[0m\u001b[0m_is_valid_rng\u001b[0m\u001b[0;34m(\u001b[0m\u001b[0mrngs\u001b[0m\u001b[0;34m)\u001b[0m\u001b[0;34m:\u001b[0m\u001b[0;34m\u001b[0m\u001b[0;34m\u001b[0m\u001b[0m\n\u001b[0;32m-> 2298\u001b[0;31m         raise errors.InvalidRngError(\n\u001b[0m\u001b[1;32m   2299\u001b[0m           \u001b[0;34m'RNGs should be of shape (2,) or PRNGKey in Module '\u001b[0m\u001b[0;34m\u001b[0m\u001b[0;34m\u001b[0m\u001b[0m\n\u001b[1;32m   2300\u001b[0m           \u001b[0;34mf'{self.__class__.__name__}, but rngs are: {rngs}'\u001b[0m\u001b[0;34m\u001b[0m\u001b[0;34m\u001b[0m\u001b[0m\n",
            "\u001b[0;31mInvalidRngError\u001b[0m: RNGs should be of shape (2,) or PRNGKey in Module MF, but rngs are: Ellipsis (https://flax.readthedocs.io/en/latest/api_reference/flax.errors.html#flax.errors.InvalidRngError)"
          ]
        }
      ],
      "source": [
        "import optax\n",
        "\n",
        "# define\n",
        "optimizer = optax.adam(learning_rate=0.01)\n",
        "\n",
        "# initialise\n",
        "parameters = model.init(...)\n",
        "optimizer_state = optimizer.init(parameters)\n",
        "\n",
        "for i in range(n_iters):\n",
        "    E, E_grad = estimate_energy_and_grad(..., parameters, ...)\n",
        "\n",
        "    updates, optimizer_state = optimizer.update(E_grad, optimizer_state, parameters)\n",
        "    parameters = optax.apply_updates(parameters, updates)\n"
      ]
    },
    {
      "cell_type": "markdown",
      "metadata": {
        "id": "XQhghJSdd4C7"
      },
      "source": [
        "### 5.3: Sky's the limit\n",
        "\n",
        "What you've seen so far gives you the tools to quickly get started in running VMC calculations, without having to worry about sampling (which is a bit tricky to implement) and operators (which are very tricky to implement).\n",
        "\n",
        "You can use this as a starting point to implement stochastic reconfiguration, the dynamics, and much more!"
      ]
    },
    {
      "cell_type": "code",
      "execution_count": null,
      "metadata": {
        "id": "JcJzZQmsd4C7"
      },
      "outputs": [],
      "source": []
    }
  ],
  "metadata": {
    "kernelspec": {
      "display_name": "Python (Netket development)",
      "language": "python",
      "name": "dev-netket"
    },
    "language_info": {
      "codemirror_mode": {
        "name": "ipython",
        "version": 3
      },
      "file_extension": ".py",
      "mimetype": "text/x-python",
      "name": "python",
      "nbconvert_exporter": "python",
      "pygments_lexer": "ipython3",
      "version": "3.11.2"
    },
    "colab": {
      "provenance": []
    }
  },
  "nbformat": 4,
  "nbformat_minor": 0
}